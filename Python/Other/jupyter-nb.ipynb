{
 "cells": [
  {
   "cell_type": "markdown",
   "metadata": {},
   "source": [
    "# Jupyter Notebooks\n",
    "\n"
   ]
  },
  {
   "cell_type": "markdown",
   "metadata": {},
   "source": [
    "## Command mode and shortcuts\n",
    "`CTRL` + `M` takes to command mode. Blue border color in the panel is indication of command mode. Exit command mode with `ESC`.\n",
    "\n",
    "Browse the list of available commands by `CTRL` + `SHIFT` + `P`. \n",
    "\n",
    "Example commands in command mode:\n",
    "* `SHIFT` + `ENTER` Excecute and go to next cell.\n",
    "* `M` Change to Markdown. "
   ]
  },
  {
   "cell_type": "markdown",
   "metadata": {},
   "source": [
    "## Python example\n",
    "Calculate and print results. The `sum_nums()` function does a sum for two numbers."
   ]
  },
  {
   "cell_type": "code",
   "execution_count": 7,
   "metadata": {},
   "outputs": [],
   "source": [
    "#Cell 1: Function to sum\n",
    "def sum_nums(a, b):\n",
    "    return a + b"
   ]
  },
  {
   "cell_type": "code",
   "execution_count": 6,
   "metadata": {},
   "outputs": [
    {
     "name": "stdout",
     "output_type": "stream",
     "text": [
      "3\n"
     ]
    }
   ],
   "source": [
    "#Cell 2: Set variables, sum and print\n",
    "a = 1\n",
    "b = 2\n",
    "s = sum_nums(a, b)\n",
    "print(s)"
   ]
  },
  {
   "cell_type": "code",
   "execution_count": null,
   "metadata": {},
   "outputs": [],
   "source": []
  }
 ],
 "metadata": {
  "kernelspec": {
   "display_name": "Python 3",
   "language": "python",
   "name": "python3"
  },
  "language_info": {
   "codemirror_mode": {
    "name": "ipython",
    "version": 3
   },
   "file_extension": ".py",
   "mimetype": "text/x-python",
   "name": "python",
   "nbconvert_exporter": "python",
   "pygments_lexer": "ipython3",
   "version": "3.6.1"
  }
 },
 "nbformat": 4,
 "nbformat_minor": 2
}
