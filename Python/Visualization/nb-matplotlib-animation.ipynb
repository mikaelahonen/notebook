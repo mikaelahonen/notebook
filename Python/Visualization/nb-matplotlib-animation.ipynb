{
 "cells": [
  {
   "cell_type": "markdown",
   "metadata": {},
   "source": [
    "# Animation\n",
    "Install `ffmpeg` to Linux: \n",
    "\n",
    "`sudo apt-get update`\n",
    "\n",
    "`sudo apt-get install ffmpeg`"
   ]
  },
  {
   "cell_type": "markdown",
   "metadata": {},
   "source": [
    "## Configure"
   ]
  },
  {
   "cell_type": "code",
   "execution_count": null,
   "metadata": {},
   "outputs": [],
   "source": [
    "#Number of different images\n",
    "n = 10\n",
    "#Frames per second\n",
    "fps = 25\n",
    "#Time for a single image\n",
    "interval = 1000\n",
    "#Total number of frames\n",
    "frames = fps * interval/1000 * n"
   ]
  },
  {
   "cell_type": "markdown",
   "metadata": {},
   "source": [
    "## Create animation"
   ]
  },
  {
   "cell_type": "code",
   "execution_count": 135,
   "metadata": {},
   "outputs": [
    {
     "data": {
      "image/png": "[encoded data removed]",
      "text/plain": [
       "<Figure size 432x288 with 1 Axes>"
      ]
     },
     "metadata": {
      "needs_background": "light"
     },
     "output_type": "display_data"
    }
   ],
   "source": [
    "import numpy as np\n",
    "import matplotlib.pyplot as plt\n",
    "import matplotlib.animation as animation\n",
    "from matplotlib.animation import FFMpegWriter\n",
    "\n",
    "fig=plt.figure()\n",
    "ax1 = fig.add_subplot(1,1,1)\n",
    "\n",
    "#X values\n",
    "x_min = 2010\n",
    "x_values = np.arange(x_min, x_min+n)\n",
    "x_max = x_values.max()\n",
    "\n",
    "#Y values\n",
    "y_values = np.arange(1, 1+n) ** 2\n",
    "y_max = y_values.max()\n",
    "\n",
    "def update_bar(i):\n",
    "    y = y_values[:i+1]\n",
    "    x = x_values[:i+1]\n",
    "    ax1.set_xticks(x_values)\n",
    "    ax1.set_ylim(top=y_max*1.1)\n",
    "    ax1.set_xlim(left=x_min-0.5, right=x_max+0.5)\n",
    "    ax1.bar(x, y, color='red')\n",
    "\n",
    "\n",
    "def init():\n",
    "    update_bar(0)\n",
    "\n",
    "\n",
    "def animate(i):\n",
    "    update_bar(i)\n",
    "\n",
    "ani = animation.FuncAnimation(\n",
    "    fig, #original figure\n",
    "    animate, #function to call at each frame\n",
    "    init_func=init, #initial function\n",
    "    repeat = False,\n",
    "    interval = 1000, #delay between frames (ms)\n",
    "    #blit = False, \n",
    "    save_count = n, #number of frames\n",
    "    #frames = n\n",
    ")\n",
    "\n",
    "plt.show()"
   ]
  },
  {
   "cell_type": "markdown",
   "metadata": {},
   "source": [
    "## Display as html"
   ]
  },
  {
   "cell_type": "code",
   "execution_count": 136,
   "metadata": {},
   "outputs": [
    {
     "data": {
      "text/html": [
       "<video width=\"432\" height=\"288\" controls autoplay>\n",
       "  <source type=\"video/mp4\" src=\"data:video/mp4;base64,AAAAHGZ0eXBNNFYgAAACAGlzb21pc28yYXZjMQAAAAhmcmVlAAAeNW1kYXQAAAKtBgX//6ncRem9\n",
       "5tlIt5Ys2CDZI+7veDI2NCAtIGNvcmUgMTUyIHIyODU0IGU5YTU5MDMgLSBILjI2NC9NUEVHLTQg\n",
       "QVZDIGNvZGVjIC0gQ29weWxlZnQgMjAwMy0yMDE3IC0gaHR0cDovL3d3dy52aWRlb2xhbi5vcmcv\n",
       "eDI2NC5odG1sIC0gb3B0aW9uczogY2FiYWM9MSByZWY9MyBkZWJsb2NrPTE6MDowIGFuYWx5c2U9\n",
       "MHgzOjB4MTEzIG1lPWhleCBzdWJtZT03IHBzeT0xIHBzeV9yZD0xLjAwOjAuMDAgbWl4ZWRfcmVm\n",
       "PTEgbWVfcmFuZ2U9MTYgY2hyb21hX21lPTEgdHJlbGxpcz0xIDh4OGRjdD0xIGNxbT0wIGRlYWR6\n",
       "b25lPTIxLDExIGZhc3RfcHNraXA9MSBjaHJvbWFfcXBfb2Zmc2V0PS0yIHRocmVhZHM9NiBsb29r\n",
       "YWhlYWRfdGhyZWFkcz0xIHNsaWNlZF90aHJlYWRzPTAgbnI9MCBkZWNpbWF0ZT0xIGludGVybGFj\n",
       "ZWQ9MCBibHVyYXlfY29tcGF0PTAgY29uc3RyYWluZWRfaW50cmE9MCBiZnJhbWVzPTMgYl9weXJh\n",
       "bWlkPTIgYl9hZGFwdD0xIGJfYmlhcz0wIGRpcmVjdD0xIHdlaWdodGI9MSBvcGVuX2dvcD0wIHdl\n",
       "aWdodHA9MiBrZXlpbnQ9MjUwIGtleWludF9taW49MSBzY2VuZWN1dD00MCBpbnRyYV9yZWZyZXNo\n",
       "PTAgcmNfbG9va2FoZWFkPTQwIHJjPWNyZiBtYnRyZWU9MSBjcmY9MjMuMCBxY29tcD0wLjYwIHFw\n",
       "bWluPTAgcXBtYXg9NjkgcXBzdGVwPTQgaXBfcmF0aW89MS40MCBhcT0xOjEuMDAAgAAAD/9liIQA\n",
       "F//+99S3zLLtU2+2C6j3op4mX0N1JQGblsTtOoAAAAMABnddzdfZ7UFwH2gAB5iyR2CBR/8wBU2B\n",
       "T3n8IwTmtRRmodOtzVA7ew+T+cbc2s1Rgz05SswM02T8P/gHIPyFbvcIKkpBOuKc/HjcGXCUhuWD\n",
       "+Qev2xlOBrZk/p3JaLbiO1LjdhIj/ksJXESoVvgGyA6ZwOL7e9w9Ec8mZGmYG4+gz+ugH9/OiTZg\n",
       "1AFjmZpxvWfBEcZD1Ucrerdb8edwgknmvoT6o169fM5oAnRmIFC7hWZfR0d4LPHh/I3LAYXx1NVH\n",
       "UhhrEV5MqTUdl8ewzrU4c6KZTGHUl/CSlMRK7y8i/18Jfu+xa2gVrvDTkM9uWhnh/2JTxotdo7t2\n",
       "d+pJ6l+zJs50GuuLfVDjYE/FGH95hCwMyCyluADdb7CvOhZ7w5YmlDJaCSkGu8aOyFY6M9poAAU0\n",
       "Gz7vs6tpXcKxBslDprl1R81AyHJEhZ9jECzIOVxhJB/jVRnoBRoux5tpJiyWqbtbpqAm8M4iRW2A\n",
       "q3jtS4vao0k/3XaYal80EvUQODOBckRHyKP1qTsgR3hnBSomwW0qv3RdWogZYkX8XellOYuCANUj\n",
       "2ELdszK+F3AOq/TZkAdX2EZrbyjsb7hB2D1qbPD02Zk8ryyksyY0ICcIU3kFaA+jsUBmMABFTzUb\n",
       "ATkg6q/pf5tq+yHpqF513xhAMxbcWWYfsJ2sb0DSoAtQi4aYmZn4Ui9TRsZbhdfF+l6bH2SqDB8X\n",
       "Alm8/jiLgREFzLTgG7zlVN8XdRv+qMHpmyXiwUCVyODMSYBRq3gTNMkHDOC/nfcNdqjPyzh1P8lx\n",
       "jSKSP/fA+SY14xC3CkcRWRXwyaUvQjMK8S7OvDc1H9xhdLzMY2+afFnm+GSDqx74M4vbmQcbih47\n",
       "G4ZqrAVQMGg6QXFIXcSf6ApFz4mNaOSbazhFCR0A4GneGYNfYq+Gxgut7iiIsmQ/SCNeCXMaN7G5\n",
       "HpV1RDwgkne5xY6DUuaix9MHCnrKM7dDpVwTRgKsgCZBWA3CRATgD3D/TfY7VsChRb1jV3y8turz\n",
       "K5soYJXm7FaTqHpt4HJWohM15FvJLcYq9eh2bZA+Zu9UxOH0oSDd36dvbC7FOmPq/QIXyoBIB0yy\n",
       "XKvu6wvPuxpZdCmfBQ9cJ9AEdCvKOUqDRtDQGfkZFNyvvwgqE2jr4GwrY3vaPwCiYpaHps9CpRa0\n",
       "0cx9xjz3TTSAspH5dlIdCgrlQHU94mfD8C7P13qfvV2pnVWFdL74Iu50gyjBFVckNgcgMALYtvBr\n",
       "0Kr/G69gosNiXWdg6aqZ+/h5pG4NM/3RGcYuD21BZua4O74oRRmc8QA8daUInAd/cZnBJjHb7+q+\n",
       "sjoTujRx+vT9CB0UHDo6uLUijCd5Uw7rnd5iPOZTsjbz4V+RKK90vvrxOciH7mTze74cxghR8H64\n",
       "9D+PrpcGpFOc9QVPcLF/Rw9oQRFvwXBVOwRpWlyMKRzAFX+dymbowp6xzjbRzau2CCPhhG//x/5G\n",
       "yUsYbVWB1NCS3p5TslQlZI/rx0eSU0Z23ipt4aVQMYCpB888c/whdG+ivWXHC0kG/NbqemIUMCbO\n",
       "oWkeN6jT+owBHzFddWn85jp8Tv4NCziQltNbW5yYzf//Tqv8d8wa+qUQAFeH2eq9WsbnXSVfCv+L\n",
       "ec7d+DkE1BLeGJVx//7IYwH7qRs7IuWslSDIhFGEp7vSGF9GKbJZeELP83aVKytH4hhjN96kBpuX\n",
       "0ggnD/pcYgIHFmdL0knfFXqnucAaOmNKKhCUrWK+UgdyrSx3c9kkaMZRutUXJmH8JdFPDC4I7dl6\n",
       "YX7p5ecL/LjQrrmhvJYHY7zq3xijMw8Kgrg9YgBP0NTY6mUqbspkgQ6JmU8GAhROtJKdNVqCRCvB\n",
       "BofyJ6q9zfRXuDANLkRJIvtd2MZfskSQCJkxJHAt8fCpR3XyNSvIDGVV/IXmXcn98OwFkBCnWFoU\n",
       "+R+bkznmRI7Fwy1nD+O266/Q15n+FrdANr+f1Gv+mVb+BUH0CenStrxwF0coY03gOx2u9LSC7koo\n",
       "+GHJWM1VvhrX0m0JWRURgl1+R/WEMfrJJGD1sELOPWVEn09Ur1JvQqZ2yv5B4pdEnzUUcDm3S1zo\n",
       "ShosSgrOnR+g0O+HcFCjf4YtvZSSs1rHEGAkuSll8MN+Pmm7rNwgjXwjNf6G82G8jkUZTLSrOmRD\n",
       "KLYeryOEpig29L4TepmTxJK37aDsO9ubgaWD1AhTnNRjT5P/71BFQ2er9eDOwyYbyFBy/VUmRnEX\n",
       "xlU2StZs+X9Y7S6OcXtwo/awnTh03kjrYfBbJPXhePkO7KbDvVvRUYRGix2Xua7MjuvRVAJUzbBK\n",
       "AEIdg+X/Y5mib0hXxrvgvED/Syh5AgvM56BdW+4I1x88YTVeHM8x68u2ftz8i//bbSqi5FR0SYfG\n",
       "98qwtrQSmQQgdpitMEBpRY3OHD8SpobeLV6lNZk1tJFOTMCOzNbcoVSXuzJOeW8H/Hso3zYaHDLn\n",
       "UKEP6WJZAp0aR3n2AJMWbRWahmj8KaYOa9lEw7Xnq5CqA23JTqxV7eJdQ267PG5URVq9NvdC30PE\n",
       "oHDW9Wa1pbJfUTN5xunK5+F6n17mLP/YPQp9kWmUgTfCdyolJd4vhm8CxpY7okSyE0x0n0XZcb6V\n",
       "JNCB7tyhYp58Pr27/Nbl5eUPhjbdjD5oCBxx644tLALZ9yqrpU4e6PZFFVBXNdT4BVFvnVl7YAK0\n",
       "rhgCrpfU6w69Eapz2TqpodOoVNPv/EaeIHu8C0Aoj1tIO4gSGP6MCs3iSII0f91Gm3JB2yGvJ4Jb\n",
       "t8Nk9WYBZGrJjZQakUrCb5ZXi3FKs2uPbnbJxuMbUxXfhPxDrX+7KVEzNPwoTbeVqJCD/ysmXh+Q\n",
       "UUSAJ51u2Az+19G6jV9LJ6i/1R9H2kH6xaHyLLwsGLhowLjFr8TuDezbSTeW28GX6pkw1JSkZP/8\n",
       "ZhykahGi6Qiko/nHP9gKlq75ih9TgCOLzubFy8opp49bZqo2uQv4qFpFlMAdr3RtSMU4IIef3kV1\n",
       "pU9gFYEE93jyhpAXjRifodxAXqj7Du8CdYOWOL5phv2Tv9mc0bXB9mN8EPTp6nmCmzZX2p5mGrBV\n",
       "ZwFqrIt6fvxWZLhflumLH4Nzk5b0uvjOju760xN3o3nkqELZzxWWlXYafqPWlfZky2Cq130kjKUb\n",
       "BPaqc1DXI4Dj4wBgljyGcUxsKdNeMuWbyhElRSrOmRDKLz3WqJfiUc5PWxBDckMp/HfOon2d/pye\n",
       "dnEnd1qID40LWpg7AAwQKb9Qw4AluYk2wsOBGffJNbfkzbYihCdVZcAzL9pBxNXNwipnLR2eVwwl\n",
       "gTLyDXnUGbE3omIzOJh1/XohbEwG3CN3I8gzxbb5EkfWe2769kIMgN+LKQdoFmTWR0sQqwTMr519\n",
       "CHFCo+cuZVMlxy508fSPGoY3h4hXkhUax0DHFsA/ntYjRtcGmQlCvRsdQhmvLASqwXyDH++JwLRT\n",
       "C9vjTLUjLn/9PKxBVnzN7L/xVlGo7gN6RrIFQX0//6l8QpCAUCwwGqy3OYttFi9v1zN08kgZoe8E\n",
       "nGQdtFx//69RHfo33Ixccl8arHT6YYkgPudIKhWsX0/Die8leUX8D4NsA/ZBczb55h4b5JLrBXMT\n",
       "PVdIPfnMo/O0VHPsfGJ5uXG41CsRxj7Mm7nhn7S+GK/mxGTsXgLmXYrloUdYMCcsf0CntBx8K36B\n",
       "6DSVzFcIPHWOiL8uDiV/+ext779u5qocoQ4HYWjXYbmegBT9Dhkg6YFIfS/+58fko15GxhRKZ+G9\n",
       "72loDMwdDBrb2tGOcH5WaCeEgkurWWtWQOAFfX2H3dmr9uQFaBx/zL+0NimbhhE2TBgE2/bKrg27\n",
       "r3EyHJJAqrXCLGKpppi2/Ns8q7gUCT9t3koG5e6o81w+1uWpn5DwkEVTWjunGpbAJ/DvOds+viTW\n",
       "5OkANHIFVH+3Ux8NJOQZbNPN51KkUg4RGelETN+o/c9kV31ZMKhUlWkzZr+qKIGERbVSXzLTvl4/\n",
       "aivbxk2wrzQHzKhLtzrN9mr4mqRcSqG93NheHDYMOheFtYnB8V45bvOHpbIZLIIuJbXme0xtUTfc\n",
       "+hRs1kHUJjK66+4QRf4M+OFrGhIr+pZa2zzIUGCn4T/9eqnqu+f3cJJN0nLHUq6/8aIf+LrxMcrH\n",
       "boiPtz+pw/OTPmDls0SrpHI/WCJRc6iPsudKOSvWh8lL5bHrx8XZ4fxQiNg2DYY2fTunG2Ur8mOG\n",
       "MfDw0Ntw9HHrH0x6lSZgXNDsvqD9XWbwNrvSARvDvfp6CgBtdgP2QqZ8s/2fAE4oapvNOrZFYzE2\n",
       "CJZ7tCPhmdSIuyACItePILq+C3UyV5Lu3KJwkjUPIykLJiYFA47EiT/2D8k3MLKhx6b65bUmZW7d\n",
       "VID/QBsyrrLeAabeGLIpFnOgP8uzEDLkkouo4z/3CPDMAZJHQbmYRjOoH9Tt6SF5H5EiYxRhNx4m\n",
       "i2tLvS3WcZOGmZLNb6tv7s5oOs3GieGPAjYMkWfEqDk2WYwSQadU3kfXjxn5apuBO8fvRpxnl68/\n",
       "YZPFPgZhxKP19Y/SHT6+9T2eAB7fjIpyEylDp1CSBlE5GNDpkA8vmJI7jrZd5/8YwO6/4ITOjRBe\n",
       "x2U4DlCYTf2UZGw8DSM9vt7wn1v/jxZCDiut+Hq431KZmscckZDLCW8/bKOD6YxT5wIy5DpYJC25\n",
       "vbJQUTUB53QGyZOUUzLRi0z0DhNATn1x2OT0Kagy/FdY2tyBam6IGhwsT4VKO6+RoWTtgeetsyHy\n",
       "lL75Ai1jNg+CSV6cll3g5JYOF+OP/nzxVtIXXobAyZHpFD65T1kGRi2tYVRUdrEY9p8m9SFcutPZ\n",
       "WW4AjbwrADyfpc2+o58iw5Z3hGnIo4ze4/sGdY2KXFWEW5Yq34JhFSFh0xrRNoSZOMRsaJvVWfut\n",
       "yk/jduyeDUBclQhbOgaDiw/nbLBVbiEHhDX0UMK+487nubDpGAYxppRZjo0o6v+YT9s98uWF+5Dh\n",
       "FUB/+E99Um2EodfBToL6XthUWwZpq1zdXro1t3cZUtYwEySqsuy/44xpzG6GtJ9Nz5NqdnaWdEdC\n",
       "1bn4dvTWIB8xPuzom+osAQgS52VzCSD6cF/YWC7zIn7IUEiv6iABIbGPiIJnNsIFZdJVPV6QsjeM\n",
       "efMeMFS3MX7sxfjp6oaLsXMxhjM08BDv5Y/KyaLynBva6oR6x60tdmE66F4u+962j36tAbJwqhLo\n",
       "slKOgICMAT3ArfJg5SzcTuFT/LPGQIL9dLWtPcVMYXygqIGyQSsexsiJzzlnlFilO76Wi+L6fAXZ\n",
       "v4t9g+tGlBbdfghhGo0MQPY0hQG/CPT4iodCXntKriZxPm13GvkD7Ot5jWUsKhvOMIB2Li8eOg4P\n",
       "RCux5gWMdhBMz6CLpuc4BxxTf/PA1dwYNaZAvYGUfA5+qzn6VuOc60AADOkAAAI5QZohbEF//tqm\n",
       "WAB0oaPNACwJaEzhkPZJnCEG7qWd8QS3lllyVcPuq4Jqys0iQwynYnoj5NMwiDoSpNEC+U+4h1hV\n",
       "tVZwxnfk34w1/Nas/8FVFGVXeCdr2pB/E66B+elvB71hL2c2Q/4pBd+B07KpAfI6W+C6VXAjDIWt\n",
       "74LxNm54gL1G5W9u3/bU8/+12GSLEPzMAkSl+itC7zLqxfVSuyDX+2K6GT1wgX8BCSQupOAcEIpI\n",
       "yT7MsY9hbTuSi6defRfknCMYoJxDA4XSrr97j+v0v1mB+RXad9b5cGDWbDTD0Uw0Tl6ivzWxBflC\n",
       "EyGBXhP5S6vSi8NIQofTznpP1ZDZYaFSPH+O9aVzLFmWacL/UXZkmQ15TsqcMv5WquwoRQ3geZ2+\n",
       "q4XI6O+NQjaknoi9Y0lRTh+vTAnyHBCHBjS956xc21Gv23i8i5k3cbFnn57iZMMQywwSJsU2oaQ2\n",
       "sbCEwfdN3a2JJ78UnUWaMrtwg16gnQOwp+7eioC+MZ21De/FeAe1qtR0KSAAKcGrlaw39RRf5St1\n",
       "utnC+DFcUdPLjSXJKhvzPnCy3LpaoRAvZrq3/2GBqfds0ZyFAjTUwTWI63pS86k4EY8KQ5L0s2gn\n",
       "FuAHYkO4SCj51OWF3H45gYHO4T4ZYTvS4xShfveHmhgtUEUU6NDkqWhoyFDeT1YrxPcA3TT/Qhd0\n",
       "C4igbAtxNf283bH8No2mF5HSq3JHFcbYld5E4OGzFyLrPtKH/KIhT3UJ2bf+wEAAAAO3QZpFPCGT\n",
       "KYQX//7aplgAAWbkoxTHFt4ABdPqlC3lCVcJq4w+ywTXDvShVP0UEHE+4lpkkjuNdcaoVpZlh11J\n",
       "3yUfBy0TP/YQLsoVY0HEg9zVTvPIntQGHKyjfvgAE+2/1Qz5dlGkMoohcXw1tbxZb8XvdlyLrIH0\n",
       "9O0NPvIaCx2GnXNC8U1tGAwQzWGbXh0Wq/anGtLCaFQCqGyS5LKRMTm2QnTuFIoj7OFsrj/7qoLL\n",
       "24PKYIrMgq0vw4vx/ek2anhQcXCKmqRucfD6g0I0P21XAtID26iNEcaqvVbNdaAR4FETrs+toSXG\n",
       "7ukcT4CwORK05aY23mTJBY5IS6jvDcI+uC8shR9TpLD4EtYvSfpSgQnLN4hhTKQoAA90pc+vjfBr\n",
       "PfJArDDxh3sPNxzctcS0VK/N1QzH/hVYFV3RQmDGxVxmAH7+C5+ejwgMLMxe2QSwj/eXk+AUv/tt\n",
       "yVRPkdcBt+KauTjXpqO/SIGORRtV3/80P6FE0S0XmWene5giIVmcm4Pbi3ZGIGcmCIrsZb1w6A+V\n",
       "oHyMnAM3mdIiE8xNMwJ0QgpSS7CRgFis1K/x9tiQMQSn0RKelKL2WhDa0Ahx8vJGN9xQNpI5mry6\n",
       "in2vsf0zYymD4ubtxKzYW2xJe9NWXNcA7EL36pJeoiGUXMBsbvjIsB1Jxu24oFnhEWXSEUbp8jlU\n",
       "zyP69+UAQeuXNdW1OFW53Ha9ia/Zy0xOTPPzG2dxg18eyxqSUOmjL3eOt94IITsBqXL6sFhsydDg\n",
       "9DOOUyZQV5LCDIVwLVNqFxy4trdO9Pa9PhYxBhdhNtdLpndfoWmqu/dDwh4BEZa5WgIMM7o6tb8L\n",
       "uKMnIKb02XSH0iF8G0EaWWLLvs5CC7q0zimarhAj9xAP/DaTgHtReCJERZnwCal/JXZW9RzofpzD\n",
       "f7OXnv7E4mnGnIDjhE8VHmvIFSxp7/GXSLhWGX/Y2vbc1CDcoctERRpW4SB8NKGhP+e9hcFYJ3KU\n",
       "cgxjGM4TKTZNdVk9sBlVVgClowM9G/1lJWGybIz2NHsnfXoQNPtPBUghsDqSgwblqQQlMEeoc0tu\n",
       "eXQKbIn3FBtOiORvTlgk7IZePRcGMkaWlZNTmEqKwYJlTY/vlc5xuZ1uBJUACyn1iyidnt5tsfSG\n",
       "su/1HCBm3WoC4DmNJiqM6yeAKElW7XSL/8qKyYdNgUDRsbRj3bqIt8VqeaFBKs9MpSkIxxNLTsP5\n",
       "Aqv6v71SjS1bvqzd0FsfAnhbCKERRz9RRXgmoOZH6jzzAAAAnEGeY2pTwW8AAAMAmi2o8yCVBtdX\n",
       "Zps6vCfk2PduYTQAOZxh/+B2EB5n7t7UipC2MFn0MWfEnFbNOdvvpxmM1+lI4LyrQ+2iX0p1aZRR\n",
       "h8u/vXydW0Kq6VvVIJ/hcc1k5UA8QdO4mB5quVNvRz/qi6euAFBVsbEL9Mv7fApZrxLERX6Mgc1l\n",
       "Vmf2eq9GfwrxJULmZvFKjWZ/PMgTMAAAACMBnoJ0QV8AAAMAQydFSJfgnTVHdgz/ww3o2eWIyMll\n",
       "bnA14QAAAEkBnoRqQV8AAAMA7Nsfo4GWF2IsxEwbHda+AveBtkbMolhJABfPa3/qTHgYPviANQ8K\n",
       "XUwpU40rNOBkMlghj56KUbnJ/7j7hbZBAAADDEGaiUmoQWiZTAgr//7WpVABIeg+4jOCB4AL7UD7\n",
       "Sde1iyzfS+4y0YZniYpfoZRsfEAKzCEErr4XHtt9UrewxeraZ33U4Fy2u1LIaFv/zrRdb61owbeb\n",
       "yujunFpLSEnimyaqcOqYMGvquNhuACEu8MSONgWAf9Pr9w5J6JLbxugafMHPesFrGSFWQ821IuK1\n",
       "w90VyZA3QRNeCp/ykh7KhOBegj8X4llo750Ri1i2GPplOymmcy0NVvvY1Xs8ln5bdXJvRJ8RRtQb\n",
       "FKSLi5Dj50bvc2huC1JmvXcJ0stm9tPG53lzb0gYiwSTLsesOy4iLWGqbgVUsgQrsOiO/ll8TxYt\n",
       "QHMCqtk/c5vult+YR852N2vIra3lhZVMR9dyCtvJCaflv1RcT3w60drvUSqdGqn/HWg+6oFyG4w+\n",
       "uJIl5gj/wNeQffMXqK47sE3E1E4hUXFSpjTIzcnOy4xKLucDFSg73B5SARmaPEFbXZbNO6qEzWD4\n",
       "JTIZoYTLM7Nh3fBVhC2SEwL1eKme1kSHhgJynykF/O1vdBOmciOI1ohhY7vwlEjh/QtVnwevm89H\n",
       "rrv/8uoborXyjSVdefzyUYKrj7eichBK6G77VNPFKxEhazGgjXS1wSrKH42WB14v4220xrdNi0ZL\n",
       "/77/ijK+j70rhtBg7IESH30SrMi1qdUXp8A6YExnE+3pWw/yLYXsLoxFUrXvmGj/zC9eIIjfae8X\n",
       "czcget8hKRMbfIl2QT/zuJ/E0FjG3FK9x5JYIz6itx+Z5RjflA4wHCv4zhUiuD1k8Co4muP6kC8Y\n",
       "IH4LWpNQCLnSNMkkyqPVwSIDhpX7pjx52PMboDptYJysGummW3p9A6JF+lErOwLiIr+ALvUctoOF\n",
       "Y+n6FG68LhOkDr0SA+y9QV9jiCWBkanK8h8SHrZODlDipgKloK8wXk6+7lpcaeEFE4Gh5pwRrvjI\n",
       "q+U8jFTbLO7PT8iP69f4yF99qOOCZiBZzVbvXf8yJ0UlyMJ9ldtjKQdU+QX81hI0R/6P3Q8/Zko7\n",
       "/qc4Rx2LIEyJCQAAAKpBnqdFESwW/wAAe9eo8x8aEROfFj/Kbe3Rwh/xVEkABBnFT+X/g5XAT9vT\n",
       "fcqVpRTLGcwZMKNCfth+pRDhenNGRwFqZUnB5413J5iYEUstsWuqZuX5I9UeQmnRME/oq1iMltPW\n",
       "NFoiKnVj+Ew+stGnI9AotoEDgfXZJhN2cPEs1bCO0FQq6J9cdRM+hACAYZxMla0/2lzw0qoFJcZ2\n",
       "1rNSGi9ZpGd7Lxgn/QAAADgBnsZ0QV8AAA11o/PgXXfvq/dv7kJg24jdKY2LSdjZWVfc7MeqTLkV\n",
       "gN0PA1toAdFYCxYnDUM0UAAAAG8BnshqQV8AAMNbRUxMKBhyr9q1d295XuNgNsv46ktlLB7hucgb\n",
       "Jm89WxgHP69dH+hM4Q8uHXDUU29OOaADmwjH+3mQYU/fD90i77SJoaPLYr6vYLrhmNNZpX8DqmxP\n",
       "wW0ndUY44EzSlCsvOcc9wYAAAAOebW9vdgAAAGxtdmhkAAAAAAAAAAAAAAAAAAAD6AAAJxAAAQAA\n",
       "AQAAAAAAAAAAAAAAAAEAAAAAAAAAAAAAAAAAAAABAAAAAAAAAAAAAAAAAABAAAAAAAAAAAAAAAAA\n",
       "AAAAAAAAAAAAAAAAAAAAAAAAAgAAAsh0cmFrAAAAXHRraGQAAAADAAAAAAAAAAAAAAABAAAAAAAA\n",
       "JxAAAAAAAAAAAAAAAAAAAAAAAAEAAAAAAAAAAAAAAAAAAAABAAAAAAAAAAAAAAAAAABAAAAAAbAA\n",
       "AAEgAAAAAAAkZWR0cwAAABxlbHN0AAAAAAAAAAEAACcQAACAAAABAAAAAAJAbWRpYQAAACBtZGhk\n",
       "AAAAAAAAAAAAAAAAAABAAAACgABVxAAAAAAALWhkbHIAAAAAAAAAAHZpZGUAAAAAAAAAAAAAAABW\n",
       "aWRlb0hhbmRsZXIAAAAB621pbmYAAAAUdm1oZAAAAAEAAAAAAAAAAAAAACRkaW5mAAAAHGRyZWYA\n",
       "AAAAAAAAAQAAAAx1cmwgAAAAAQAAAatzdGJsAAAAs3N0c2QAAAAAAAAAAQAAAKNhdmMxAAAAAAAA\n",
       "AAEAAAAAAAAAAAAAAAAAAAAAAbABIABIAAAASAAAAAAAAAABAAAAAAAAAAAAAAAAAAAAAAAAAAAA\n",
       "AAAAAAAAAAAAAAAAGP//AAAAMWF2Y0MBZAAV/+EAGGdkABWs2UGwloQAAAMABAAAAwAIPFi2WAEA\n",
       "Bmjr48siwAAAABx1dWlka2hA8l8kT8W6OaUbzwMj8wAAAAAAAAAYc3R0cwAAAAAAAAABAAAACgAA\n",
       "QAAAAAAUc3RzcwAAAAAAAAABAAAAAQAAAFhjdHRzAAAAAAAAAAkAAAACAACAAAAAAAEAAUAAAAAA\n",
       "AQAAgAAAAAABAAAAAAAAAAEAAEAAAAAAAQABQAAAAAABAACAAAAAAAEAAAAAAAAAAQAAQAAAAAAc\n",
       "c3RzYwAAAAAAAAABAAAAAQAAAAoAAAABAAAAPHN0c3oAAAAAAAAAAAAAAAoAABK0AAACPQAAA7sA\n",
       "AACgAAAAJwAAAE0AAAMQAAAArgAAADwAAABzAAAAFHN0Y28AAAAAAAAAAQAAACwAAABidWR0YQAA\n",
       "AFptZXRhAAAAAAAAACFoZGxyAAAAAAAAAABtZGlyYXBwbAAAAAAAAAAAAAAAAC1pbHN0AAAAJal0\n",
       "b28AAAAdZGF0YQAAAAEAAAAATGF2ZjU3LjgzLjEwMA==\n",
       "\">\n",
       "  Your browser does not support the video tag.\n",
       "</video>"
      ],
      "text/plain": [
       "<IPython.core.display.HTML object>"
      ]
     },
     "execution_count": 136,
     "metadata": {},
     "output_type": "execute_result"
    }
   ],
   "source": [
    "from IPython.display import HTML\n",
    "\n",
    "HTML(ani.to_html5_video())"
   ]
  },
  {
   "cell_type": "markdown",
   "metadata": {},
   "source": [
    "## Save as mp4\n",
    "Does not work properly yet."
   ]
  },
  {
   "cell_type": "code",
   "execution_count": 125,
   "metadata": {},
   "outputs": [
    {
     "name": "stdout",
     "output_type": "stream",
     "text": [
      "Saved\n"
     ]
    }
   ],
   "source": [
    "writer = FFMpegWriter()\n",
    "ani.save(\"movie.mp4\", writer=writer)\n",
    "print(\"Saved\")"
   ]
  },
  {
   "cell_type": "code",
   "execution_count": null,
   "metadata": {},
   "outputs": [],
   "source": []
  }
 ],
 "metadata": {
  "kernelspec": {
   "display_name": "Python 3",
   "language": "python",
   "name": "python3"
  },
  "language_info": {
   "codemirror_mode": {
    "name": "ipython",
    "version": 3
   },
   "file_extension": ".py",
   "mimetype": "text/x-python",
   "name": "python",
   "nbconvert_exporter": "python",
   "pygments_lexer": "ipython3",
   "version": "3.6.6"
  }
 },
 "nbformat": 4,
 "nbformat_minor": 2
}
