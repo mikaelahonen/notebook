{
 "cells": [
  {
   "cell_type": "markdown",
   "metadata": {},
   "source": [
    "# Date and Time in Python\n",
    "<b>datetime</b>\n",
    "* Aware objects relate to a moment in time and time zone.\n",
    "* Naive object doesn't.\n",
    "* Has these objects\n",
    "    * tzone\n",
    "    * timedelta\n",
    "    * time\n",
    "    * date\n",
    "        * datetime\n",
    "        \n",
    "<b>time</b>\n",
    "* Included in python"
   ]
  },
  {
   "cell_type": "code",
   "execution_count": 14,
   "metadata": {},
   "outputs": [],
   "source": [
    "import datetime as dt\n",
    "import time"
   ]
  },
  {
   "cell_type": "markdown",
   "metadata": {},
   "source": [
    "## Current time"
   ]
  },
  {
   "cell_type": "code",
   "execution_count": 11,
   "metadata": {},
   "outputs": [
    {
     "name": "stdout",
     "output_type": "stream",
     "text": [
      "\n",
      "Date and time\n",
      "2018-06-15 23:09:28.810475\n",
      "\n",
      "Date\n",
      "2018-06-15\n",
      "\n",
      "Time\n",
      "23:09:28.810475\n"
     ]
    }
   ],
   "source": [
    "#Date time object\n",
    "dt_obj = dt.datetime.now()\n",
    "print(\"\\nDate and time\")\n",
    "print(dt_obj)\n",
    "\n",
    "#Date only\n",
    "print(\"\\nDate\")\n",
    "print(dt_obj.date())\n",
    "\n",
    "#Time only\n",
    "print(\"\\nTime\")\n",
    "print(dt_obj.time())"
   ]
  },
  {
   "cell_type": "markdown",
   "metadata": {},
   "source": [
    "## Difference between two datetimes"
   ]
  },
  {
   "cell_type": "code",
   "execution_count": 15,
   "metadata": {},
   "outputs": [
    {
     "name": "stdout",
     "output_type": "stream",
     "text": [
      "0:00:02.000639\n"
     ]
    }
   ],
   "source": [
    "time_a = dt.datetime.now()\n",
    "time.sleep(2)\n",
    "time_b = dt.datetime.now()\n",
    "\n",
    "print(time_b-time_a)"
   ]
  },
  {
   "cell_type": "code",
   "execution_count": null,
   "metadata": {},
   "outputs": [],
   "source": []
  }
 ],
 "metadata": {
  "kernelspec": {
   "display_name": "Python 3",
   "language": "python",
   "name": "python3"
  },
  "language_info": {
   "codemirror_mode": {
    "name": "ipython",
    "version": 3
   },
   "file_extension": ".py",
   "mimetype": "text/x-python",
   "name": "python",
   "nbconvert_exporter": "python",
   "pygments_lexer": "ipython3",
   "version": "3.6.1"
  }
 },
 "nbformat": 4,
 "nbformat_minor": 2
}
