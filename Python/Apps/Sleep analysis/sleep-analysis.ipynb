{
 "cells": [
  {
   "cell_type": "markdown",
   "metadata": {},
   "source": [
    "# Sleep analysis with python\n",
    "## Configuration\n",
    "Rename `data_example.xlsx` to `data.xlsx`.\n",
    "Rename `config_example.py` to `config.py`.\n",
    "\n",
    "Move `data.xlsx` to the location of your choice and set the `file_path` variable in `config.py` to that location. Use forward slashes in path.\n",
    "## Logging data\n",
    "Log sleeping data to `data.xlsx`.\n",
    "\n",
    "Record the following details:\n",
    "* start: Datetime when the sleeping started.\n",
    "* stop: Datetime when you woke up.\n",
    "* alarm: Did you wake up by yourself or to an alarm clock."
   ]
  },
  {
   "cell_type": "markdown",
   "metadata": {},
   "source": [
    "## Import libraries\n",
    "Remember to install `xlrd` library to use `pd.excel_read()`."
   ]
  },
  {
   "cell_type": "code",
   "execution_count": 187,
   "metadata": {},
   "outputs": [],
   "source": [
    "import numpy as np\n",
    "import pandas as pd\n",
    "import matplotlib.pyplot as plt\n",
    "\n",
    "import config"
   ]
  },
  {
   "cell_type": "markdown",
   "metadata": {},
   "source": [
    "## Read data\n",
    "Read sleep data from `data.xlsx` to pandas data frame."
   ]
  },
  {
   "cell_type": "code",
   "execution_count": 188,
   "metadata": {},
   "outputs": [
    {
     "name": "stdout",
     "output_type": "stream",
     "text": [
      "                start                stop  alarm\n",
      "0 2018-01-02 02:00:00 2018-01-02 07:00:00   True\n",
      "1 2018-01-02 22:00:00 2018-01-03 08:30:00   True\n",
      "2 2018-01-04 00:00:00 2018-01-04 07:45:00   True\n",
      "3 2018-01-04 23:15:00 2018-01-05 05:45:00  False\n",
      "4 2018-01-06 00:00:00 2018-01-06 07:45:00  False\n"
     ]
    }
   ],
   "source": [
    "#Read data to pandas data frame\n",
    "d = pd.read_excel(config.file_path)\n",
    "\n",
    "#Show top rows of data\n",
    "print(d.head())"
   ]
  },
  {
   "cell_type": "code",
   "execution_count": 189,
   "metadata": {},
   "outputs": [
    {
     "name": "stdout",
     "output_type": "stream",
     "text": [
      "start    datetime64[ns]\n",
      "stop     datetime64[ns]\n",
      "alarm              bool\n",
      "dtype: object\n"
     ]
    }
   ],
   "source": [
    "#Show column data types\n",
    "print(d.dtypes)"
   ]
  },
  {
   "cell_type": "markdown",
   "metadata": {},
   "source": [
    "## Add columns\n",
    "### hours\n",
    "How many hours sleep this record is.\n",
    "### day\n",
    "The day that the record belongs to. This is determined from the stop column."
   ]
  },
  {
   "cell_type": "code",
   "execution_count": 190,
   "metadata": {},
   "outputs": [
    {
     "name": "stdout",
     "output_type": "stream",
     "text": [
      "                start                stop  alarm    hours         day\n",
      "0 2018-01-02 02:00:00 2018-01-02 07:00:00   True 05:00:00  2018-01-02\n",
      "1 2018-01-02 22:00:00 2018-01-03 08:30:00   True 10:30:00  2018-01-03\n",
      "2 2018-01-04 00:00:00 2018-01-04 07:45:00   True 07:45:00  2018-01-04\n",
      "3 2018-01-04 23:15:00 2018-01-05 05:45:00  False 06:30:00  2018-01-05\n",
      "4 2018-01-06 00:00:00 2018-01-06 07:45:00  False 07:45:00  2018-01-06\n"
     ]
    }
   ],
   "source": [
    "#Slept hours\n",
    "d['hours'] = d['stop'] - d['start']\n",
    "\n",
    "#The day that the record belongs to\n",
    "d['day'] = d['stop'].dt.date\n",
    "\n",
    "#Show top rows of data\n",
    "print(d.head())"
   ]
  },
  {
   "cell_type": "code",
   "execution_count": 191,
   "metadata": {},
   "outputs": [
    {
     "name": "stdout",
     "output_type": "stream",
     "text": [
      "start     datetime64[ns]\n",
      "stop      datetime64[ns]\n",
      "alarm               bool\n",
      "hours    timedelta64[ns]\n",
      "day               object\n",
      "dtype: object\n"
     ]
    }
   ],
   "source": [
    "#Show data type for hours\n",
    "print(d.dtypes)"
   ]
  },
  {
   "cell_type": "markdown",
   "metadata": {},
   "source": [
    "## Calculate daily sum "
   ]
  },
  {
   "cell_type": "code",
   "execution_count": 192,
   "metadata": {},
   "outputs": [
    {
     "name": "stdout",
     "output_type": "stream",
     "text": [
      "day               object\n",
      "hours    timedelta64[ns]\n",
      "dtype: object\n",
      "          day    hours  hours_num\n",
      "0  2018-01-02 05:00:00       5.00\n",
      "1  2018-01-03 10:30:00      10.50\n",
      "2  2018-01-04 07:45:00       7.75\n",
      "3  2018-01-05 06:30:00       6.50\n",
      "4  2018-01-06 07:45:00       7.75\n"
     ]
    }
   ],
   "source": [
    "d_daily = d.groupby(['day'])['hours'].sum().to_frame(name='hours').reset_index()\n",
    "print(d_daily.dtypes)\n",
    "d_daily['hours_num'] = d_daily['hours'] / np.timedelta64(1, 'h')\n",
    "print(d_daily.head())"
   ]
  },
  {
   "cell_type": "code",
   "execution_count": 193,
   "metadata": {},
   "outputs": [
    {
     "data": {
      "image/png": "[encoded data removed]",
      "text/plain": [
       "<matplotlib.figure.Figure at 0x1aacfd949b0>"
      ]
     },
     "metadata": {},
     "output_type": "display_data"
    }
   ],
   "source": [
    "var_list = [\"day\", \"hours_num\"]\n",
    "ax = d_daily[var_list].plot(\n",
    "    x=\"day\",\n",
    "    kind=\"bar\", \n",
    "    title=\"Hours by day\", \n",
    "    legend=True, \n",
    "    grid=True,\n",
    "    alpha=0.5, \n",
    "    figsize=(10,4)\n",
    ")\n",
    "ax.set_xlabel(\"Date\")\n",
    "ax.set_ylabel(\"Total hours slept\")\n",
    "plt.xticks()\n",
    "plt.show()"
   ]
  },
  {
   "cell_type": "markdown",
   "metadata": {},
   "source": [
    "## Calculate weekly averages"
   ]
  },
  {
   "cell_type": "code",
   "execution_count": 194,
   "metadata": {},
   "outputs": [
    {
     "name": "stdout",
     "output_type": "stream",
     "text": [
      "          day    hours  hours_num  last_week\n",
      "0  2018-01-02 05:00:00       5.00        NaN\n",
      "1  2018-01-03 10:30:00      10.50        NaN\n",
      "2  2018-01-04 07:45:00       7.75        NaN\n",
      "3  2018-01-05 06:30:00       6.50        NaN\n",
      "4  2018-01-06 07:45:00       7.75        NaN\n",
      "5  2018-01-07 07:00:00       7.00        NaN\n",
      "6  2018-01-08 07:45:00       7.75   7.464286\n",
      "7  2018-01-09 07:15:00       7.25   7.785714\n",
      "8  2018-01-10 07:15:00       7.25   7.321429\n",
      "9  2018-01-11 08:00:00       8.00   7.357143\n"
     ]
    }
   ],
   "source": [
    "d_daily['last_week'] = d_daily['hours_num'].rolling(window=7, center=False).mean()\n",
    "print(d_daily.head(10))"
   ]
  },
  {
   "cell_type": "code",
   "execution_count": 195,
   "metadata": {},
   "outputs": [
    {
     "data": {
      "image/png": "[encoded data removed]",
      "text/plain": [
       "<matplotlib.figure.Figure at 0x1aacfa59da0>"
      ]
     },
     "metadata": {},
     "output_type": "display_data"
    }
   ],
   "source": [
    "var_list = [\"day\", \"last_week\"]\n",
    "ax = d_daily[var_list].plot(\n",
    "    x=\"day\",\n",
    "    kind=\"line\", \n",
    "    title=\"Weekly averages\", \n",
    "    legend=True, \n",
    "    grid=True,\n",
    "    alpha=0.5, \n",
    "    figsize=(10,4)\n",
    ")\n",
    "ax.set_xlabel(\"Date\")\n",
    "ax.set_ylabel(\"Hours from previous week\")\n",
    "plt.xticks()\n",
    "plt.show()"
   ]
  },
  {
   "cell_type": "markdown",
   "metadata": {},
   "source": [
    "## KPI Values"
   ]
  },
  {
   "cell_type": "code",
   "execution_count": 196,
   "metadata": {},
   "outputs": [
    {
     "name": "stdout",
     "output_type": "stream",
     "text": [
      "Daily min: 3.5\n",
      "Daily max: 10.5\n",
      "Weekly avg min: 6.547619047619048\n",
      "Weekly avg max: 7.8809523809523805\n"
     ]
    }
   ],
   "source": [
    "min_day = d_daily['hours_num'].min()\n",
    "max_day = d_daily['hours_num'].max()\n",
    "min_week = d_daily['last_week'].min()\n",
    "max_week = d_daily['last_week'].max()\n",
    "\n",
    "print(\"Daily min: {0}\".format(min_day))\n",
    "print(\"Daily max: {0}\".format(max_day))\n",
    "print(\"Weekly avg min: {0}\".format(min_week))\n",
    "print(\"Weekly avg max: {0}\".format(max_week))\n"
   ]
  },
  {
   "cell_type": "code",
   "execution_count": null,
   "metadata": {},
   "outputs": [],
   "source": []
  }
 ],
 "metadata": {
  "kernelspec": {
   "display_name": "Python 3",
   "language": "python",
   "name": "python3"
  },
  "language_info": {
   "codemirror_mode": {
    "name": "ipython",
    "version": 3
   },
   "file_extension": ".py",
   "mimetype": "text/x-python",
   "name": "python",
   "nbconvert_exporter": "python",
   "pygments_lexer": "ipython3",
   "version": "3.6.1"
  }
 },
 "nbformat": 4,
 "nbformat_minor": 2
}
