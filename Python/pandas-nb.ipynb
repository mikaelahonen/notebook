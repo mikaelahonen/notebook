{
 "cells": [
  {
   "cell_type": "markdown",
   "metadata": {},
   "source": [
    "# Pandas\n",
    "A high level Python package to work with structured data.\n",
    "Tools are built on top of NumPy.\n",
    "\n",
    "The name comes from PANel DAta.\n",
    "\n",
    "## Series\n",
    "* One dimensional array\n",
    "* Can be any data type, also Python dict or ndarray from numpy \n",
    "* Series can have name\n",
    "\n",
    "## Data frame\n",
    "* Two dimensional\n",
    "* Table like object\n",
    "* Takes in lists, dicts, ndarrays, Series and so on"
   ]
  },
  {
   "cell_type": "code",
   "execution_count": null,
   "metadata": {},
   "outputs": [],
   "source": [
    "import pandas as pd\n",
    "# Pandas requires numpy installation but not import\n",
    "import numpy as np"
   ]
  },
  {
   "cell_type": "markdown",
   "metadata": {},
   "source": [
    "## Series"
   ]
  },
  {
   "cell_type": "code",
   "execution_count": null,
   "metadata": {},
   "outputs": [],
   "source": [
    "#Create series\n",
    "group = pd.Series([\"A\",\"B\",\"C\",\"A\",\"B\",\"B\",\"A\"])\n",
    "income = pd.Series([5000,2000,4000,3000,1500,1000,4500])\n",
    "\n",
    "#Series to data frame\n",
    "df = pd.DataFrame({'group':group, 'income':income})\n",
    "\n",
    "df.head(10)"
   ]
  },
  {
   "cell_type": "markdown",
   "metadata": {},
   "source": [
    "## Generate data"
   ]
  },
  {
   "cell_type": "code",
   "execution_count": null,
   "metadata": {},
   "outputs": [],
   "source": [
    "df_gen = pd.DataFrame(np.random.randint(0,100,size=(100, 2)), columns=['auto_1','auto_2'])\n",
    "df_gen.head()"
   ]
  },
  {
   "cell_type": "markdown",
   "metadata": {},
   "source": [
    "## Concatenate columns"
   ]
  },
  {
   "cell_type": "code",
   "execution_count": null,
   "metadata": {},
   "outputs": [],
   "source": [
    "#Concatenate rank to original data frame\n",
    "df_concat = pd.concat([df, df_gen], axis=1)\n",
    "df_concat.head()"
   ]
  },
  {
   "cell_type": "markdown",
   "metadata": {},
   "source": [
    "## Group by"
   ]
  },
  {
   "cell_type": "code",
   "execution_count": null,
   "metadata": {},
   "outputs": [],
   "source": [
    "#Sum by group\n",
    "df_sum = df.groupby(['group']).sum()\n",
    "df_sum.head()"
   ]
  },
  {
   "cell_type": "code",
   "execution_count": null,
   "metadata": {},
   "outputs": [],
   "source": [
    "#Rank by group\n",
    "df_rank = df.groupby(\"group\")[\"income\"].rank(method=\"dense\")\n",
    "df_rank.head()"
   ]
  },
  {
   "cell_type": "markdown",
   "metadata": {},
   "source": [
    "## Rolling"
   ]
  },
  {
   "cell_type": "code",
   "execution_count": null,
   "metadata": {},
   "outputs": [],
   "source": [
    "df_roll = df.rolling(center=False, window=3).sum()\n",
    "df_roll.head()"
   ]
  },
  {
   "cell_type": "markdown",
   "metadata": {},
   "source": [
    "## Speed test"
   ]
  },
  {
   "cell_type": "code",
   "execution_count": null,
   "metadata": {},
   "outputs": [],
   "source": [
    "import datetime as dt\n",
    "\n",
    "#Get start time\n",
    "t_start = dt.datetime.now()\n",
    "\n",
    "#Sort data frame size of million by two conditions\n",
    "st_rows = 10*1000000 #millions\n",
    "df_st = pd.DataFrame(np.random.randint(0,1000,size=(st_rows, 4)), columns=list('ABCD'))\n",
    "df_st = df_st.sort_values(by=['A', 'B'])\n",
    "\n",
    "#Get end time\n",
    "t_end = dt.datetime.now()\n",
    "\n",
    "#Print results\n",
    "print(df_st.head())\n",
    "print(\"\\nDuration\")\n",
    "print(t_end-t_start)"
   ]
  },
  {
   "cell_type": "code",
   "execution_count": null,
   "metadata": {},
   "outputs": [],
   "source": []
  }
 ],
 "metadata": {
  "kernelspec": {
   "display_name": "Python 3",
   "language": "python",
   "name": "python3"
  },
  "language_info": {
   "codemirror_mode": {
    "name": "ipython",
    "version": 3
   },
   "file_extension": ".py",
   "mimetype": "text/x-python",
   "name": "python",
   "nbconvert_exporter": "python",
   "pygments_lexer": "ipython3",
   "version": "3.6.1"
  }
 },
 "nbformat": 4,
 "nbformat_minor": 2
}
