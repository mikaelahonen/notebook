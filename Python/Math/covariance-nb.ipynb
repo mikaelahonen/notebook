{
 "cells": [
  {
   "cell_type": "markdown",
   "metadata": {},
   "source": [
    "# Covariance\n",
    "Covariance measures how the mean values of two variables move together."
   ]
  },
  {
   "cell_type": "code",
   "execution_count": 88,
   "metadata": {},
   "outputs": [],
   "source": [
    "import numpy as np\n",
    "import random as rnd\n",
    "import matplotlib.pyplot as plt\n",
    "import matplotlib.colors as clr\n",
    "\n",
    "def cov(x, y):\n",
    "    x_mean = np.mean(x)\n",
    "    y_mean = np.mean(y)\n",
    "    x_var = np.var(x)\n",
    "    y_var = np.var(y)\n",
    "    n = len(x)\n",
    "    \n",
    "    s = 0\n",
    "\n",
    "    for i in range(n):\n",
    "        #Print details\n",
    "        print(\"\\nData point \" + str(i))\n",
    "        print(\"x from x mean: \" + str(x[i]-x_mean))\n",
    "        print(\"y from y mean: \" + str(y[i]-y_mean))\n",
    "        print(\"Product of differences from mean: \" + str((x[i]-x_mean)*(y[i]-y_mean)))\n",
    "        \n",
    "        #Plot details\n",
    "        color = clr.to_rgb([rnd.random(),rnd.random(),rnd.random()])\n",
    "        plt.plot([x[i],x_mean],[y[i],y[i]], color=color)\n",
    "        plt.plot([x[i],x[i]],[y[i],y_mean], color=color)\n",
    "        \n",
    "        #Add to sum\n",
    "        s += (x[i]-x_mean)*(y[i]-y_mean)\n",
    "        cov = s/(n-1)\n",
    "        corr = (s/n)/np.sqrt(x_var*y_var)\n",
    "        \n",
    "    print(\"\\nSum: \" + str(s))\n",
    "    print(\"Cov: \" + str(cov))\n",
    "    print(\"Var x: \" + str(x_var))\n",
    "    print(\"Var y: \" + str(y_var))\n",
    "    print(\"Corr: \" + str(corr))\n",
    "    \n",
    "    #Plot x and y mean lines\n",
    "    plt.plot([x_mean,x_mean],[np.min(y),np.max(y)], color=\"lightgray\", dashes=[6, 2])\n",
    "    plt.plot([np.min(x),np.max(x)],[y_mean,y_mean], color=\"lightgray\", dashes=[6, 2])\n",
    "    #Plot x and y\n",
    "    plt.scatter(x, y)\n",
    "    #show to final plot\n",
    "    plt.show()\n",
    "    \n",
    "    return s/(n-1)"
   ]
  },
  {
   "cell_type": "code",
   "execution_count": 89,
   "metadata": {},
   "outputs": [
    {
     "name": "stdout",
     "output_type": "stream",
     "text": [
      "\n",
      "Data point 0\n",
      "x from x mean: -3.0\n",
      "y from y mean: -3.0\n",
      "Product of differences from mean: 9.0\n",
      "\n",
      "Data point 1\n",
      "x from x mean: -2.0\n",
      "y from y mean: -2.0\n",
      "Product of differences from mean: 4.0\n",
      "\n",
      "Data point 2\n",
      "x from x mean: -1.0\n",
      "y from y mean: -1.0\n",
      "Product of differences from mean: 1.0\n",
      "\n",
      "Data point 3\n",
      "x from x mean: 0.0\n",
      "y from y mean: 0.0\n",
      "Product of differences from mean: 0.0\n",
      "\n",
      "Data point 4\n",
      "x from x mean: 1.0\n",
      "y from y mean: 1.0\n",
      "Product of differences from mean: 1.0\n",
      "\n",
      "Data point 5\n",
      "x from x mean: 2.0\n",
      "y from y mean: 2.0\n",
      "Product of differences from mean: 4.0\n",
      "\n",
      "Data point 6\n",
      "x from x mean: 3.0\n",
      "y from y mean: 3.0\n",
      "Product of differences from mean: 9.0\n",
      "\n",
      "Sum: 28.0\n",
      "Cov: 4.66666666667\n",
      "Var x: 4.0\n",
      "Var y: 4.0\n",
      "Corr: 1.0\n"
     ]
    },
    {
     "data": {
      "image/png": "[encoded data removed]",
      "text/plain": [
       "<matplotlib.figure.Figure at 0x21d64414b70>"
      ]
     },
     "metadata": {},
     "output_type": "display_data"
    }
   ],
   "source": [
    "x_1 = [1,2,3,4,5,6,7]\n",
    "y_1 = [1,2,3,4,5,6,7]\n",
    "c = cov(x_1, y_1)"
   ]
  },
  {
   "cell_type": "code",
   "execution_count": 93,
   "metadata": {},
   "outputs": [
    {
     "name": "stdout",
     "output_type": "stream",
     "text": [
      "\n",
      "Data point 0\n",
      "x from x mean: -4.5\n",
      "y from y mean: -202.6\n",
      "Product of differences from mean: 911.7\n",
      "\n",
      "Data point 1\n",
      "x from x mean: -3.5\n",
      "y from y mean: -200.6\n",
      "Product of differences from mean: 702.1\n",
      "\n",
      "Data point 2\n",
      "x from x mean: -2.5\n",
      "y from y mean: -196.6\n",
      "Product of differences from mean: 491.5\n",
      "\n",
      "Data point 3\n",
      "x from x mean: -1.5\n",
      "y from y mean: -188.6\n",
      "Product of differences from mean: 282.9\n",
      "\n",
      "Data point 4\n",
      "x from x mean: -0.5\n",
      "y from y mean: -172.6\n",
      "Product of differences from mean: 86.3\n",
      "\n",
      "Data point 5\n",
      "x from x mean: 0.5\n",
      "y from y mean: -140.6\n",
      "Product of differences from mean: -70.3\n",
      "\n",
      "Data point 6\n",
      "x from x mean: 1.5\n",
      "y from y mean: -76.6\n",
      "Product of differences from mean: -114.9\n",
      "\n",
      "Data point 7\n",
      "x from x mean: 2.5\n",
      "y from y mean: 51.4\n",
      "Product of differences from mean: 128.5\n",
      "\n",
      "Data point 8\n",
      "x from x mean: 3.5\n",
      "y from y mean: 307.4\n",
      "Product of differences from mean: 1075.9\n",
      "\n",
      "Data point 9\n",
      "x from x mean: 4.5\n",
      "y from y mean: 819.4\n",
      "Product of differences from mean: 3687.3\n",
      "\n",
      "Sum: 7181.0\n",
      "Cov: 797.888888889\n",
      "Var x: 8.25\n",
      "Var y: 97948.84\n",
      "Corr: 0.798837242618\n"
     ]
    },
    {
     "data": {
      "image/png": "[encoded data removed]",
      "text/plain": [
       "<matplotlib.figure.Figure at 0x21d64708cf8>"
      ]
     },
     "metadata": {},
     "output_type": "display_data"
    }
   ],
   "source": [
    "x_2 = [1,2,3,4,5,6,7,8,9,10]\n",
    "y_2 = [2,4,8,16,32,64,128,256,512,1024]\n",
    "c = cov(x_2, y_2)"
   ]
  },
  {
   "cell_type": "code",
   "execution_count": null,
   "metadata": {},
   "outputs": [],
   "source": []
  }
 ],
 "metadata": {
  "kernelspec": {
   "display_name": "Python 3",
   "language": "python",
   "name": "python3"
  },
  "language_info": {
   "codemirror_mode": {
    "name": "ipython",
    "version": 3
   },
   "file_extension": ".py",
   "mimetype": "text/x-python",
   "name": "python",
   "nbconvert_exporter": "python",
   "pygments_lexer": "ipython3",
   "version": "3.6.1"
  }
 },
 "nbformat": 4,
 "nbformat_minor": 2
}
