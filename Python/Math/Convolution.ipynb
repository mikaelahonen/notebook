{
 "cells": [
  {
   "cell_type": "markdown",
   "metadata": {},
   "source": [
    "# Convolution\n",
    "Practical example to convolution. \n",
    "\n",
    "In the example we have two groups arriving to a training on a consecutive days. Each group goes through specified modules, one module per day. The modules have predefined number of training hours. <b>The task is to calculate how many teaching hours the teacher have each day.</b>\n",
    "\n",
    "Inspired by [this](https://study.com/academy/lesson/convolution-theorem-application-examples.html) example. "
   ]
  },
  {
   "cell_type": "markdown",
   "metadata": {},
   "source": [
    "## Function f\n",
    "Scheduled hours for each module. In convolution this is called as function `f` that is considered to be \"stationary\"."
   ]
  },
  {
   "cell_type": "code",
   "execution_count": 85,
   "metadata": {},
   "outputs": [],
   "source": [
    "#Module 0 is 4 hours, module 1 is 2 hours and so on \n",
    "module_durations = [4,2,1,3]"
   ]
  },
  {
   "cell_type": "markdown",
   "metadata": {},
   "source": [
    "## Function g\n",
    "Number of people coming to a course each day. The function `g` is considered to \"slide\" through the stationary function f. Function `g` does no have to be same length than `f`."
   ]
  },
  {
   "cell_type": "code",
   "execution_count": 86,
   "metadata": {},
   "outputs": [],
   "source": [
    "#Three people starts on Monday, two on Tuesday\n",
    "group_sizes = [3,2]"
   ]
  },
  {
   "cell_type": "markdown",
   "metadata": {},
   "source": [
    "## Iterating\n",
    "There are four modules, but the course actually takes five days for the teacher:\n",
    "* On Monday only the group 1 is training\n",
    "* Tue-Thu both groups are training\n",
    "* On Friday only the group 2 is training\n",
    "\n",
    "In general, the number of iterations is the length of `f` plus length of `g` minus `1`."
   ]
  },
  {
   "cell_type": "code",
   "execution_count": 87,
   "metadata": {},
   "outputs": [],
   "source": [
    "modules = len(module_durations)\n",
    "groups = len(group_sizes)\n",
    "days = modules+groups-1"
   ]
  },
  {
   "cell_type": "markdown",
   "metadata": {},
   "source": [
    "## Calculate"
   ]
  },
  {
   "cell_type": "code",
   "execution_count": 97,
   "metadata": {},
   "outputs": [
    {
     "name": "stdout",
     "output_type": "stream",
     "text": [
      "\n",
      "Day 0\n",
      "  Group 0, Module 0\n",
      "    f: 4, g: 3, f*g: 12\n",
      "  Group 1, Module -1\n",
      "    Out of range\n",
      "Sum: 12\n",
      "\n",
      "Day 1\n",
      "  Group 0, Module 1\n",
      "    f: 2, g: 3, f*g: 6\n",
      "  Group 1, Module 0\n",
      "    f: 4, g: 2, f*g: 8\n",
      "Sum: 14\n",
      "\n",
      "Day 2\n",
      "  Group 0, Module 2\n",
      "    f: 1, g: 3, f*g: 3\n",
      "  Group 1, Module 1\n",
      "    f: 2, g: 2, f*g: 4\n",
      "Sum: 7\n",
      "\n",
      "Day 3\n",
      "  Group 0, Module 3\n",
      "    f: 3, g: 3, f*g: 9\n",
      "  Group 1, Module 2\n",
      "    f: 1, g: 2, f*g: 2\n",
      "Sum: 11\n",
      "\n",
      "Day 4\n",
      "  Group 0, Module 4\n",
      "    Out of range\n",
      "  Group 1, Module 3\n",
      "    f: 3, g: 2, f*g: 6\n",
      "Sum: 6\n"
     ]
    }
   ],
   "source": [
    "#List for total hours for each day\n",
    "s = []\n",
    "\n",
    "#Loop each day when there are training events\n",
    "for d in range(days):\n",
    "    \n",
    "    print(\"\\nDay \" + str(d))\n",
    "    \n",
    "    s.append(0)\n",
    "    \n",
    "    #Loop each training group\n",
    "    for grp in range(groups):        \n",
    "        \n",
    "        #Index for module durations. \n",
    "        #Basically this number tells which day's hours to fetch particular groups.\n",
    "        f_i = d-grp\n",
    "        \n",
    "        print(\"  Group \" + str(grp) + \", Module \" + str(f_i))\n",
    "        \n",
    "        #If this group is under training at this day\n",
    "        if(f_i>=0 and f_i<modules):\n",
    "            f = module_durations[f_i]\n",
    "            g = group_sizes[grp]\n",
    "            s[d]+= f*g\n",
    "            print(\"    f: \" + str(f) + \", g: \" + str(g) + \", f*g: \" + str(f*g)) \n",
    "        else:\n",
    "            print(\"    Out of range\")\n",
    "    print(\"Sum: \" + str(s[d]))\n",
    "    "
   ]
  },
  {
   "cell_type": "markdown",
   "metadata": {},
   "source": [
    "## Sums"
   ]
  },
  {
   "cell_type": "code",
   "execution_count": 99,
   "metadata": {},
   "outputs": [
    {
     "data": {
      "text/plain": [
       "[12, 14, 7, 11, 6]"
      ]
     },
     "execution_count": 99,
     "metadata": {},
     "output_type": "execute_result"
    }
   ],
   "source": [
    "s"
   ]
  },
  {
   "cell_type": "code",
   "execution_count": null,
   "metadata": {},
   "outputs": [],
   "source": []
  }
 ],
 "metadata": {
  "kernelspec": {
   "display_name": "Python 3",
   "language": "python",
   "name": "python3"
  },
  "language_info": {
   "codemirror_mode": {
    "name": "ipython",
    "version": 3
   },
   "file_extension": ".py",
   "mimetype": "text/x-python",
   "name": "python",
   "nbconvert_exporter": "python",
   "pygments_lexer": "ipython3",
   "version": "3.6.1"
  }
 },
 "nbformat": 4,
 "nbformat_minor": 2
}
