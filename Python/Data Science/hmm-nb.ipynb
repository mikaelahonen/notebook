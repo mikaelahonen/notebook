{
 "cells": [
  {
   "cell_type": "markdown",
   "metadata": {},
   "source": [
    "# Hidden Markov Model\n",
    "Hidden Markov Model assumes that the probabilities of changing from state to another are known.\n",
    "\n",
    "The idea is to predict future states from current state. The predicted state doesn't have to be the next one, but then you have to make predictions for all the intermediate states as well. This results a chain of states.\n",
    "\n",
    "`hmmlearn` python library performs unsupervised learning.\n",
    "\n",
    "These variables can be defined manually or you can calculate them from data automatically with the `.fit` function:\n",
    "* startprob_\n",
    "* transmat_\n",
    "* means_\n",
    "* covars_"
   ]
  },
  {
   "cell_type": "code",
   "execution_count": 67,
   "metadata": {},
   "outputs": [],
   "source": [
    "from hmmlearn import hmm\n",
    "import numpy as np\n",
    "import matplotlib.pyplot as plt\n",
    "#hmm makes warnings about upcoming deprecations, ignore them\n",
    "import warnings\n",
    "warnings.simplefilter(\"ignore\")"
   ]
  },
  {
   "cell_type": "markdown",
   "metadata": {},
   "source": [
    "## Create data and fit the model"
   ]
  },
  {
   "cell_type": "code",
   "execution_count": 77,
   "metadata": {},
   "outputs": [
    {
     "data": {
      "image/png": "[encoded data removed]",
      "text/plain": [
       "<matplotlib.figure.Figure at 0x236e113d7b8>"
      ]
     },
     "metadata": {},
     "output_type": "display_data"
    },
    {
     "data": {
      "text/plain": [
       "GaussianHMM(algorithm='viterbi', covariance_type='diag', covars_prior=0.01,\n",
       "      covars_weight=1, init_params='stmc', means_prior=0, means_weight=0,\n",
       "      min_covar=0.001, n_components=2, n_iter=100, params='stmc',\n",
       "      random_state=None, startprob_prior=1.0, tol=0.01, transmat_prior=1.0,\n",
       "      verbose=False)"
      ]
     },
     "execution_count": 77,
     "metadata": {},
     "output_type": "execute_result"
    }
   ],
   "source": [
    "#Variable 1\n",
    "d_1 = [1,2,4,3,2,4,10,6,9,8,7,10,7,2]\n",
    "d_2 = [15,11,19,19,15,14,12,13,16,16,16,15,19,17]\n",
    "#Concatencate and transpose the full list \n",
    "d = np.transpose([d_1+d_2])\n",
    "#Plot values\n",
    "plt.bar(range(len(d)), d)\n",
    "plt.plot([0,27],[10.5,10.5], color=\"red\")\n",
    "plt.show()\n",
    "#Fit model\n",
    "model = hmm.GaussianHMM(n_components=2, covariance_type=\"diag\", n_iter=100)\n",
    "model.fit(d)"
   ]
  },
  {
   "cell_type": "markdown",
   "metadata": {},
   "source": [
    "## Print HMM results"
   ]
  },
  {
   "cell_type": "code",
   "execution_count": 78,
   "metadata": {},
   "outputs": [
    {
     "name": "stdout",
     "output_type": "stream",
     "text": [
      "\n",
      "Hidden state 1\n",
      "Mean = 15.5\n",
      "Variance = 5.82\n",
      "\n",
      "Hidden state 2\n",
      "Mean = 5.37\n",
      "Variance = 9.44\n"
     ]
    }
   ],
   "source": [
    "#Values by algorithm\n",
    "for i in range(model.n_components):\n",
    "    print('\\nHidden state', i+1)\n",
    "    print('Mean =', round(model.means_[i][0], 2))\n",
    "    print('Variance =', round(np.diag(model.covars_[i])[0], 2))"
   ]
  },
  {
   "cell_type": "code",
   "execution_count": 79,
   "metadata": {},
   "outputs": [
    {
     "name": "stdout",
     "output_type": "stream",
     "text": [
      "\n",
      "List 1\n",
      "Mean = 5.36\n",
      "Variance = 9.37\n",
      "\n",
      "List 2\n",
      "Mean = 15.5\n",
      "Variance = 5.82\n"
     ]
    }
   ],
   "source": [
    "#Actual values\n",
    "i=0\n",
    "for d_i in (d_1, d_2):\n",
    "    i+=1\n",
    "    print('\\nList', i)\n",
    "    print('Mean =', round(np.mean(d_i), 2))\n",
    "    print('Variance =', round(np.var(d_i), 2))"
   ]
  },
  {
   "cell_type": "code",
   "execution_count": null,
   "metadata": {},
   "outputs": [],
   "source": []
  }
 ],
 "metadata": {
  "kernelspec": {
   "display_name": "Python 3",
   "language": "python",
   "name": "python3"
  },
  "language_info": {
   "codemirror_mode": {
    "name": "ipython",
    "version": 3
   },
   "file_extension": ".py",
   "mimetype": "text/x-python",
   "name": "python",
   "nbconvert_exporter": "python",
   "pygments_lexer": "ipython3",
   "version": "3.6.1"
  }
 },
 "nbformat": 4,
 "nbformat_minor": 2
}
