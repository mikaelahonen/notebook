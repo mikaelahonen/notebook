{
 "cells": [
  {
   "cell_type": "markdown",
   "metadata": {},
   "source": [
    "# ROC curve and AUC\n",
    "* For binary classification predictions\n",
    "* Count True positive and False positive ratios for different tresholds\n",
    "* The treshold means the numerical limit of the probability that is interpreted as true\n",
    "\n",
    "[Documentation](https://scikit-learn.org/stable/modules/generated/sklearn.metrics.roc_curve.html) on scikit home page."
   ]
  },
  {
   "cell_type": "code",
   "execution_count": 1,
   "metadata": {},
   "outputs": [
    {
     "name": "stdout",
     "output_type": "stream",
     "text": [
      "Automatically created module for IPython interactive environment\n"
     ]
    }
   ],
   "source": [
    "print(__doc__)\n",
    "\n",
    "import numpy as np\n",
    "import pandas as pd\n",
    "import matplotlib.pyplot as plt\n",
    "\n",
    "from sklearn.metrics import roc_curve, auc\n"
   ]
  },
  {
   "cell_type": "markdown",
   "metadata": {},
   "source": [
    "## Data"
   ]
  },
  {
   "cell_type": "code",
   "execution_count": 90,
   "metadata": {},
   "outputs": [
    {
     "name": "stdout",
     "output_type": "stream",
     "text": [
      "   index  y  y_prob\n",
      "0      9  1    0.99\n",
      "1      8  1    0.90\n",
      "2      7  0    0.80\n",
      "3      6  1    0.70\n",
      "4      5  1    0.60\n",
      "5      4  0    0.50\n",
      "6      3  1    0.40\n",
      "7      2  0    0.30\n",
      "8      1  0    0.20\n",
      "9      0  0    0.10\n"
     ]
    }
   ],
   "source": [
    "y = [0, 0, 0, 1, 0, 1, 1, 0, 1, 1]\n",
    "y_prob = [0.1, 0.2, 0.3, 0.4, 0.5, 0.6, 0.7, 0.8, 0.9, 0.99]\n",
    "df = pd.DataFrame({\"y\": y, \"y_prob\": y_prob}).sort_values(by='y_prob', ascending=False).reset_index()\n",
    "print(df)"
   ]
  },
  {
   "cell_type": "code",
   "execution_count": 91,
   "metadata": {},
   "outputs": [
    {
     "name": "stdout",
     "output_type": "stream",
     "text": [
      "[1.99 0.99 0.9  0.8  0.6  0.5  0.4  0.1 ]\n",
      "[0.  0.  0.  0.2 0.2 0.4 0.4 1. ]\n",
      "[0.  0.2 0.4 0.4 0.8 0.8 1.  1. ]\n"
     ]
    },
    {
     "data": {
      "text/plain": [
       "[<matplotlib.lines.Line2D at 0x7f42c28cf080>]"
      ]
     },
     "execution_count": 91,
     "metadata": {},
     "output_type": "execute_result"
    },
    {
     "data": {
      "image/png": "[encoded data removed]",
      "text/plain": [
       "<Figure size 432x288 with 1 Axes>"
      ]
     },
     "metadata": {
      "needs_background": "light"
     },
     "output_type": "display_data"
    }
   ],
   "source": [
    "fpr, tpr, treshold_list = roc_curve(df[\"y\"], df[\"y_prob\"])\n",
    "\n",
    "print(treshold_list)\n",
    "\n",
    "print(fpr)\n",
    "print(tpr)\n",
    "roc_auc = auc(fpr, tpr)\n",
    "\n",
    "plt.plot(fpr, tpr)"
   ]
  },
  {
   "cell_type": "markdown",
   "metadata": {},
   "source": [
    "## Example of treshold"
   ]
  },
  {
   "cell_type": "code",
   "execution_count": 92,
   "metadata": {},
   "outputs": [
    {
     "name": "stdout",
     "output_type": "stream",
     "text": [
      "All trues: 6\n",
      "-----\n",
      "Treshold: 1.99\n",
      "True positives: 0\n",
      "True positive rate: 0.0\n",
      "False positivies: 0\n",
      "False positive rate: 0.0\n",
      "-----\n",
      "Treshold: 0.99\n",
      "True positives: 1\n",
      "True positive rate: 0.2\n",
      "False positivies: 0\n",
      "False positive rate: 0.0\n",
      "-----\n",
      "Treshold: 0.9\n",
      "True positives: 2\n",
      "True positive rate: 0.4\n",
      "False positivies: 0\n",
      "False positive rate: 0.0\n",
      "-----\n",
      "Treshold: 0.8\n",
      "True positives: 2\n",
      "True positive rate: 0.4\n",
      "False positivies: 1\n",
      "False positive rate: 0.2\n",
      "-----\n",
      "Treshold: 0.6\n",
      "True positives: 4\n",
      "True positive rate: 0.8\n",
      "False positivies: 1\n",
      "False positive rate: 0.2\n",
      "-----\n",
      "Treshold: 0.5\n",
      "True positives: 4\n",
      "True positive rate: 0.8\n",
      "False positivies: 2\n",
      "False positive rate: 0.4\n",
      "-----\n",
      "Treshold: 0.4\n",
      "True positives: 5\n",
      "True positive rate: 1.0\n",
      "False positivies: 2\n",
      "False positive rate: 0.4\n",
      "-----\n",
      "Treshold: 0.1\n",
      "True positives: 5\n",
      "True positive rate: 1.0\n",
      "False positivies: 5\n",
      "False positive rate: 1.0\n"
     ]
    }
   ],
   "source": [
    "all_pos = np.where(df['y']==1, 1, 0).sum()\n",
    "all_neg = np.where(df['y']==0, 1, 0).sum()\n",
    "print(\"All trues: {}\".format(cnt_all))\n",
    "\n",
    "for t in treshold_list:\n",
    "    tp = np.where((df['y_prob']>=t) & (df['y']==1), 1, 0).sum()\n",
    "    fp = np.where((df['y_prob']>=t) & (df['y']==0), 1, 0).sum()\n",
    "    \n",
    "    print(\"-----\")\n",
    "    print(\"Treshold: {}\".format(t))\n",
    "    print(\"True positives: {}\".format(tp))\n",
    "    print(\"True positive rate: {}\".format(tp/all_pos))\n",
    "    print(\"False positivies: {}\".format(fp))\n",
    "    print(\"False positive rate: {}\".format(fp/all_neg))"
   ]
  },
  {
   "cell_type": "markdown",
   "metadata": {},
   "source": [
    "## Plot ROC curve"
   ]
  },
  {
   "cell_type": "code",
   "execution_count": 93,
   "metadata": {},
   "outputs": [
    {
     "data": {
      "image/png": "[encoded data removed]",
      "text/plain": [
       "<Figure size 432x288 with 1 Axes>"
      ]
     },
     "metadata": {
      "needs_background": "light"
     },
     "output_type": "display_data"
    }
   ],
   "source": [
    "plt.figure()\n",
    "lw = 2\n",
    "plt.plot(fpr, tpr, color='darkorange',\n",
    "         lw=lw, label='ROC curve (area = %0.2f)' % roc_auc)\n",
    "plt.plot([0, 1], [0, 1], color='navy', lw=lw, linestyle='--')\n",
    "plt.xlim([0.0, 1.0])\n",
    "plt.ylim([0.0, 1.05])\n",
    "plt.xlabel('False Positive Rate')\n",
    "plt.ylabel('True Positive Rate')\n",
    "plt.title('Receiver operating characteristic example')\n",
    "plt.legend(loc=\"lower right\")\n",
    "plt.show()"
   ]
  },
  {
   "cell_type": "code",
   "execution_count": null,
   "metadata": {},
   "outputs": [],
   "source": []
  }
 ],
 "metadata": {
  "kernelspec": {
   "display_name": "Python 3",
   "language": "python",
   "name": "python3"
  },
  "language_info": {
   "codemirror_mode": {
    "name": "ipython",
    "version": 3
   },
   "file_extension": ".py",
   "mimetype": "text/x-python",
   "name": "python",
   "nbconvert_exporter": "python",
   "pygments_lexer": "ipython3",
   "version": "3.6.6"
  }
 },
 "nbformat": 4,
 "nbformat_minor": 2
}
