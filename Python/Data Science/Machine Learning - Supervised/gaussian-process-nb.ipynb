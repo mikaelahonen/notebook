{
 "cells": [
  {
   "cell_type": "markdown",
   "metadata": {},
   "source": [
    "# Gaussian process\n",
    "\n",
    "* Supervised statistical modeling techique\n",
    "* Works for both regression and classification.\n",
    "* For denoising or smoothing\n",
    "* For predictions\n",
    "* Initially expects gaussian distribution for parameters (prior)\n",
    "* Adjust prior expectations according to observations\n",
    "* Adapts better than many parametric models\n",
    "* Danger of overfitting\n",
    "\n",
    "[Video tutorial in Youtube](https://www.youtube.com/watch?v=BS4Wd5rwNwE)"
   ]
  }
 ],
 "metadata": {
  "kernelspec": {
   "display_name": "Python 3",
   "language": "python",
   "name": "python3"
  },
  "language_info": {
   "codemirror_mode": {
    "name": "ipython",
    "version": 3
   },
   "file_extension": ".py",
   "mimetype": "text/x-python",
   "name": "python",
   "nbconvert_exporter": "python",
   "pygments_lexer": "ipython3",
   "version": "3.6.1"
  }
 },
 "nbformat": 4,
 "nbformat_minor": 2
}
