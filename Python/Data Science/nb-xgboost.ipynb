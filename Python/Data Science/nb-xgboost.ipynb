{
 "cells": [
  {
   "cell_type": "markdown",
   "metadata": {},
   "source": [
    "# XGBoost\n",
    "Extreme Gradient Boost. Implementation of Gradient Boosted Decision Trees algorithm.\n",
    "\n",
    "Predicts target variables by combining estimates of [multiple weak models](https://encrypted-tbn0.gstatic.com/images?q=tbn:ANd9GcTiJcE6PULQt64mXKBr-aeDmJreG2JbMm1nNb4PVHuHrr_tGAJU4Q).\n",
    "\n",
    "XGBoost is supervised method for both regression and classification.\n",
    "\n",
    "Ensemble models: Combine multiple models to get the result.\n",
    "\n",
    "Process\n",
    "1. Choose a base model\n",
    "2. Calculate errors for each observation\n",
    "3. Train an new model to predict the errors\n",
    "4. Add errors from the model in previous step to the enemble of models \n",
    "5. Repeat 2-4\n",
    "\n",
    "Good\n",
    "* Can handle pretty dirty data\n",
    "* Fast predictions\n",
    "* Detects even non-linear relations\n",
    "* Possibility to exaplain the model\n",
    "\n",
    "Bad\n",
    "* Slow training\n",
    "* Predicts poorly observations that don't exist in training data\n",
    "\n",
    "Most important function parameters\n",
    "* max depth\n",
    "* min child weight\n",
    "* gamma\n",
    "* eta"
   ]
  },
  {
   "cell_type": "markdown",
   "metadata": {},
   "source": [
    "## Example\n",
    "Create binary classified data. Class 0 will be in squared ared in two dimensional space marked with red color. Class 1 data is in two solid regions at the left and top of the space marked with blue color. So three regions in total.\n",
    "\n",
    "The data can not be classfied with linear model, but some kind of rule based model might predict the classes pretty easily. Let's apply XGBoost to this problem.\n",
    "\n",
    "Some noise had been added as sharp boundaries between regions would result accuracy of 100%.\n",
    "\n",
    "Inspired by [this blog](https://machinelearningmastery.com/develop-first-xgboost-model-python-scikit-learn/)."
   ]
  },
  {
   "cell_type": "markdown",
   "metadata": {},
   "source": [
    "### Libraries"
   ]
  },
  {
   "cell_type": "code",
   "execution_count": 1,
   "metadata": {},
   "outputs": [],
   "source": [
    "# First XGBoost model for Pima Indians dataset\n",
    "import pandas as pd\n",
    "import numpy as np\n",
    "from numpy.random import randint\n",
    "\n",
    "import matplotlib.pyplot as plt\n",
    "from matplotlib.collections import PatchCollection\n",
    "from matplotlib.patches import Rectangle\n",
    "\n",
    "from xgboost import XGBClassifier\n",
    "from sklearn.model_selection import train_test_split\n",
    "from sklearn.metrics import accuracy_score"
   ]
  },
  {
   "cell_type": "markdown",
   "metadata": {},
   "source": [
    "### Helper functions"
   ]
  },
  {
   "cell_type": "code",
   "execution_count": 2,
   "metadata": {},
   "outputs": [],
   "source": [
    "def draw_regions():\n",
    "    \n",
    "    a = 0.2\n",
    "    \n",
    "    rect_0 = Rectangle((x1_min[0], x2_min[0]), x1_max[0]-x1_min[0], x2_max[0]-x2_min[0], alpha=a, color='blue')\n",
    "    rect_1 = Rectangle((x1_min[1], x2_min[1]), x1_max[1]-x1_min[1], x2_max[1]-x2_min[1], alpha=a, color='blue')\n",
    "    rect_2 = Rectangle((x1_min[2], x2_min[2]), x1_max[2]-x1_min[2], x2_max[2]-x2_min[2], alpha=a, color='red')\n",
    "    plt.gca().add_patch(rect_0)\n",
    "    plt.gca().add_patch(rect_1)\n",
    "    plt.gca().add_patch(rect_2)"
   ]
  },
  {
   "cell_type": "markdown",
   "metadata": {},
   "source": [
    "### Generate data"
   ]
  },
  {
   "cell_type": "code",
   "execution_count": 3,
   "metadata": {},
   "outputs": [
    {
     "data": {
      "text/html": [
       "<div>\n",
       "<style scoped>\n",
       "    .dataframe tbody tr th:only-of-type {\n",
       "        vertical-align: middle;\n",
       "    }\n",
       "\n",
       "    .dataframe tbody tr th {\n",
       "        vertical-align: top;\n",
       "    }\n",
       "\n",
       "    .dataframe thead th {\n",
       "        text-align: right;\n",
       "    }\n",
       "</style>\n",
       "<table border=\"1\" class=\"dataframe\">\n",
       "  <thead>\n",
       "    <tr style=\"text-align: right;\">\n",
       "      <th></th>\n",
       "      <th>x1</th>\n",
       "      <th>x2</th>\n",
       "      <th>y</th>\n",
       "      <th>color</th>\n",
       "    </tr>\n",
       "  </thead>\n",
       "  <tbody>\n",
       "    <tr>\n",
       "      <th>0</th>\n",
       "      <td>21</td>\n",
       "      <td>9</td>\n",
       "      <td>1</td>\n",
       "      <td>b</td>\n",
       "    </tr>\n",
       "    <tr>\n",
       "      <th>1</th>\n",
       "      <td>4</td>\n",
       "      <td>39</td>\n",
       "      <td>1</td>\n",
       "      <td>b</td>\n",
       "    </tr>\n",
       "    <tr>\n",
       "      <th>2</th>\n",
       "      <td>2</td>\n",
       "      <td>3</td>\n",
       "      <td>1</td>\n",
       "      <td>b</td>\n",
       "    </tr>\n",
       "    <tr>\n",
       "      <th>3</th>\n",
       "      <td>19</td>\n",
       "      <td>48</td>\n",
       "      <td>1</td>\n",
       "      <td>b</td>\n",
       "    </tr>\n",
       "    <tr>\n",
       "      <th>4</th>\n",
       "      <td>5</td>\n",
       "      <td>38</td>\n",
       "      <td>1</td>\n",
       "      <td>b</td>\n",
       "    </tr>\n",
       "  </tbody>\n",
       "</table>\n",
       "</div>"
      ],
      "text/plain": [
       "   x1  x2  y color\n",
       "0  21   9  1     b\n",
       "1   4  39  1     b\n",
       "2   2   3  1     b\n",
       "3  19  48  1     b\n",
       "4   5  38  1     b"
      ]
     },
     "metadata": {},
     "output_type": "display_data"
    }
   ],
   "source": [
    "#Number of observations in different regions\n",
    "n = [50, 50, 100]\n",
    "n_total = sum(n)\n",
    "\n",
    "#Magnitude of random noise\n",
    "r = 4\n",
    "\n",
    "#Boundaries for 3 regions of data. 2 regions are class 1 and the third region is class 0.\n",
    "x1_min = [0, 25, 25]\n",
    "x1_max = [25, 100, 100]\n",
    "x2_min = [0, 75, 0 ]\n",
    "x2_max = [75, 100, 75]\n",
    "\n",
    "#Create region data. Add little noise\n",
    "x1 = np.concatenate([\n",
    "    randint(x1_min[0], x1_max[0]+r, n[0]), \n",
    "    randint(x1_min[1], x1_max[1], n[1]),\n",
    "    randint(x1_min[2]-r, x1_max[2], n[2])\n",
    "])\n",
    "\n",
    "x2 = np.concatenate([\n",
    "    randint(x2_min[0], x2_max[0], n[0]), \n",
    "    randint(x2_min[1]-r, x2_max[1], n[1]),\n",
    "    randint(x2_min[2], x2_max[2]+r, n[2])\n",
    "])\n",
    "\n",
    "y = np.concatenate([\n",
    "    np.repeat(1, n[0]), \n",
    "    np.repeat(1, n[1]),\n",
    "    np.repeat(0, n[2]),\n",
    "])\n",
    "\n",
    "#Create data\n",
    "df = pd.DataFrame({\n",
    "    'x1': x1,\n",
    "    'x2': x2, \n",
    "    'y' : y\n",
    "})\n",
    "\n",
    "#Color by y value\n",
    "df['color'] = np.where(df['y'], 'b', 'r')\n",
    "display(df.head())"
   ]
  },
  {
   "cell_type": "markdown",
   "metadata": {},
   "source": [
    "### Visualize data"
   ]
  },
  {
   "cell_type": "code",
   "execution_count": 4,
   "metadata": {},
   "outputs": [
    {
     "data": {
      "image/png": "[encoded data removed]",
      "text/plain": [
       "<Figure size 432x288 with 1 Axes>"
      ]
     },
     "metadata": {
      "needs_background": "light"
     },
     "output_type": "display_data"
    }
   ],
   "source": [
    "#Plot data\n",
    "plt.scatter(df['x1'], df['x2'], c=df['color'])\n",
    "plt.title('Data by classes')\n",
    "plt.xlabel('x1')\n",
    "plt.ylabel('x2')\n",
    "draw_regions()\n",
    "plt.show()"
   ]
  },
  {
   "cell_type": "markdown",
   "metadata": {},
   "source": [
    "### Fit the model"
   ]
  },
  {
   "cell_type": "code",
   "execution_count": 5,
   "metadata": {},
   "outputs": [
    {
     "data": {
      "text/plain": [
       "XGBClassifier(base_score=0.5, booster='gbtree', colsample_bylevel=1,\n",
       "       colsample_bytree=1, gamma=0, learning_rate=0.1, max_delta_step=0,\n",
       "       max_depth=3, min_child_weight=1, missing=None, n_estimators=100,\n",
       "       n_jobs=1, nthread=None, objective='binary:logistic', random_state=0,\n",
       "       reg_alpha=0, reg_lambda=1, scale_pos_weight=1, seed=None,\n",
       "       silent=True, subsample=1)"
      ]
     },
     "execution_count": 5,
     "metadata": {},
     "output_type": "execute_result"
    }
   ],
   "source": [
    "# split data into X and y\n",
    "X = df[['x1', 'x2']]\n",
    "Y = df['y']\n",
    "\n",
    "#Split train and test data\n",
    "seed = 7\n",
    "test_size = 0.33\n",
    "X_train, X_test, y_train, y_test = train_test_split(X, Y, test_size=test_size, random_state=seed)\n",
    "\n",
    "#Train the model\n",
    "model = XGBClassifier()\n",
    "model.fit(X_train, y_train)"
   ]
  },
  {
   "cell_type": "markdown",
   "metadata": {},
   "source": [
    "### Predict"
   ]
  },
  {
   "cell_type": "code",
   "execution_count": 6,
   "metadata": {},
   "outputs": [
    {
     "data": {
      "text/html": [
       "<div>\n",
       "<style scoped>\n",
       "    .dataframe tbody tr th:only-of-type {\n",
       "        vertical-align: middle;\n",
       "    }\n",
       "\n",
       "    .dataframe tbody tr th {\n",
       "        vertical-align: top;\n",
       "    }\n",
       "\n",
       "    .dataframe thead th {\n",
       "        text-align: right;\n",
       "    }\n",
       "</style>\n",
       "<table border=\"1\" class=\"dataframe\">\n",
       "  <thead>\n",
       "    <tr style=\"text-align: right;\">\n",
       "      <th></th>\n",
       "      <th>x1</th>\n",
       "      <th>x2</th>\n",
       "      <th>actual</th>\n",
       "      <th>predicted</th>\n",
       "      <th>correct</th>\n",
       "      <th>color</th>\n",
       "    </tr>\n",
       "  </thead>\n",
       "  <tbody>\n",
       "    <tr>\n",
       "      <th>86</th>\n",
       "      <td>82</td>\n",
       "      <td>79</td>\n",
       "      <td>1</td>\n",
       "      <td>1</td>\n",
       "      <td>True</td>\n",
       "      <td>lightgray</td>\n",
       "    </tr>\n",
       "    <tr>\n",
       "      <th>120</th>\n",
       "      <td>78</td>\n",
       "      <td>56</td>\n",
       "      <td>0</td>\n",
       "      <td>0</td>\n",
       "      <td>True</td>\n",
       "      <td>lightgray</td>\n",
       "    </tr>\n",
       "    <tr>\n",
       "      <th>22</th>\n",
       "      <td>18</td>\n",
       "      <td>34</td>\n",
       "      <td>1</td>\n",
       "      <td>1</td>\n",
       "      <td>True</td>\n",
       "      <td>lightgray</td>\n",
       "    </tr>\n",
       "    <tr>\n",
       "      <th>11</th>\n",
       "      <td>5</td>\n",
       "      <td>56</td>\n",
       "      <td>1</td>\n",
       "      <td>1</td>\n",
       "      <td>True</td>\n",
       "      <td>lightgray</td>\n",
       "    </tr>\n",
       "    <tr>\n",
       "      <th>195</th>\n",
       "      <td>66</td>\n",
       "      <td>0</td>\n",
       "      <td>0</td>\n",
       "      <td>0</td>\n",
       "      <td>True</td>\n",
       "      <td>lightgray</td>\n",
       "    </tr>\n",
       "  </tbody>\n",
       "</table>\n",
       "</div>"
      ],
      "text/plain": [
       "     x1  x2  actual  predicted  correct      color\n",
       "86   82  79       1          1     True  lightgray\n",
       "120  78  56       0          0     True  lightgray\n",
       "22   18  34       1          1     True  lightgray\n",
       "11    5  56       1          1     True  lightgray\n",
       "195  66   0       0          0     True  lightgray"
      ]
     },
     "metadata": {},
     "output_type": "display_data"
    }
   ],
   "source": [
    "#Predict\n",
    "y_pred = model.predict(X_test)\n",
    "\n",
    "#Create data frame for predictions\n",
    "df_pred = X_test.copy()\n",
    "df_pred['actual'] = y_test\n",
    "df_pred['predicted'] = y_pred\n",
    "df_pred['correct'] = df_pred['actual'] == df_pred['predicted']\n",
    "df_pred['color'] = np.select(\n",
    "    [\n",
    "        df_pred['correct']==True, \n",
    "        (df_pred['correct']==False) & (df_pred['actual']==1),\n",
    "        (df_pred['correct']==False) & (df_pred['actual']==0)\n",
    "    ],\n",
    "    ['lightgray', 'blue', 'red'], \n",
    ")\n",
    "#df_pred['color'] = np.where(df_pred['correct'], 'lightgray', 'black')\n",
    "display(df_pred.head())"
   ]
  },
  {
   "cell_type": "code",
   "execution_count": 7,
   "metadata": {},
   "outputs": [
    {
     "data": {
      "image/png": "[encoded data removed]",
      "text/plain": [
       "<Figure size 432x288 with 1 Axes>"
      ]
     },
     "metadata": {
      "needs_background": "light"
     },
     "output_type": "display_data"
    }
   ],
   "source": [
    "#Plot predictions\n",
    "plt.scatter(df_pred['x1'], df_pred['x2'], color=df_pred['color'])\n",
    "plt.title(\"\"\"\n",
    "    Gray dot in blue region = True Positive\n",
    "    Gray dot in red region = True Negative\n",
    "    Blue dot = False Positive\n",
    "    Red dot = False Negative\n",
    "\"\"\")\n",
    "plt.xlabel('x1')\n",
    "plt.ylabel('x2')\n",
    "draw_regions()\n",
    "plt.show()"
   ]
  },
  {
   "cell_type": "code",
   "execution_count": 8,
   "metadata": {},
   "outputs": [
    {
     "name": "stdout",
     "output_type": "stream",
     "text": [
      "Accuracy: 93.94%\n"
     ]
    }
   ],
   "source": [
    "#Calculate accuracy\n",
    "accuracy = accuracy_score(df_pred['actual'], df_pred['predicted'])\n",
    "print(\"Accuracy: %.2f%%\" % (accuracy * 100.0))"
   ]
  },
  {
   "cell_type": "markdown",
   "metadata": {},
   "source": [
    "### Summary\n",
    "XGBoost found the pretty well the decision boundaries. A few predicted data points was incorrectly classified due to the random noise. The good new is, the mis-classified data points are close to the boundaries."
   ]
  }
 ],
 "metadata": {
  "kernelspec": {
   "display_name": "Python 3",
   "language": "python",
   "name": "python3"
  },
  "language_info": {
   "codemirror_mode": {
    "name": "ipython",
    "version": 3
   },
   "file_extension": ".py",
   "mimetype": "text/x-python",
   "name": "python",
   "nbconvert_exporter": "python",
   "pygments_lexer": "ipython3",
   "version": "3.6.6"
  }
 },
 "nbformat": 4,
 "nbformat_minor": 2
}
