{
 "cells": [
  {
   "cell_type": "markdown",
   "metadata": {},
   "source": [
    "# Hidden Markov Model\n",
    "Hidden Markov Model is unsupervised generative model. It assumes that the probabilities of changing from state to another are known.\n",
    "\n",
    "The idea is to predict future states from current state. The predicted state doesn't have to be the next one, but then you have to make predictions for all the intermediate states as well. This will produce a chain of predictions.\n",
    "\n",
    "Classifiers can be either `discriminative` or `generative` ([read more](https://stats.stackexchange.com/questions/12421/generative-vs-discriminative)). Generative models do not set hard limits between identified classes. HMM is generative, as it <b>does have</b> an assumption about how the underlying data was generated.\n",
    "\n",
    "`hmmlearn` python library performs unsupervised learning.\n",
    "\n",
    "These variables can be defined manually or you can calculate them from data automatically with the `.fit` function:\n",
    "* startprob_\n",
    "* transmat_\n",
    "* means_\n",
    "* covars_"
   ]
  },
  {
   "cell_type": "code",
   "execution_count": 11,
   "metadata": {},
   "outputs": [],
   "source": [
    "from hmmlearn import hmm\n",
    "import numpy as np\n",
    "import matplotlib.pyplot as plt\n",
    "#hmm makes warnings about upcoming deprecations, ignore them\n",
    "import warnings\n",
    "warnings.simplefilter(\"ignore\")"
   ]
  },
  {
   "cell_type": "markdown",
   "metadata": {},
   "source": [
    "## Helper functions"
   ]
  },
  {
   "cell_type": "code",
   "execution_count": 3,
   "metadata": {},
   "outputs": [],
   "source": [
    "#Data from two samples or \"states\"\n",
    "d_1 = [1,2,4,3,2,4,10,6,9,8,7,10,7,2]\n",
    "d_2 = [15,11,19,19,15,14,12,13,16,16,16,15,19,17]\n",
    "\n",
    "#Plot values\n",
    "def plot_list(d):\n",
    "    plt.bar(range(len(d)), d)\n",
    "    plt.plot([0,27],[10.5,10.5], color=\"red\")\n",
    "    plt.show()\n",
    "    \n",
    "#Print states\n",
    "def print_states(model):\n",
    "    for i in range(model.n_components):\n",
    "        print('\\nHidden state', i+1)\n",
    "        print('Mean =', round(model.means_[i][0], 2))\n",
    "        print('Variance =', round(np.diag(model.covars_[i])[0], 2))\n",
    "        \n",
    "#Print summary for each list in the list\n",
    "def print_summary(d_list):\n",
    "    i=0\n",
    "    for d_i in d_list:\n",
    "        i+=1\n",
    "        print('\\nList', i)\n",
    "        print('Mean =', round(np.mean(d_i), 2))\n",
    "        print('Variance =', round(np.var(d_i), 2))"
   ]
  },
  {
   "cell_type": "markdown",
   "metadata": {},
   "source": [
    "## Create data and fit the model"
   ]
  },
  {
   "cell_type": "code",
   "execution_count": 4,
   "metadata": {},
   "outputs": [
    {
     "data": {
      "image/png": "[encoded data removed]",
      "text/plain": [
       "<matplotlib.figure.Figure at 0x272561def60>"
      ]
     },
     "metadata": {},
     "output_type": "display_data"
    },
    {
     "name": "stdout",
     "output_type": "stream",
     "text": [
      "\n",
      "Hidden state 1\n",
      "Mean = 15.5\n",
      "Variance = 5.82\n",
      "\n",
      "Hidden state 2\n",
      "Mean = 5.37\n",
      "Variance = 9.44\n",
      "\n",
      "List 1\n",
      "Mean = 5.36\n",
      "Variance = 9.37\n",
      "\n",
      "List 2\n",
      "Mean = 15.5\n",
      "Variance = 5.82\n"
     ]
    }
   ],
   "source": [
    "#Concatencate and transpose the full list \n",
    "d = np.transpose([d_1+d_2])\n",
    "\n",
    "#Fit model\n",
    "model = hmm.GaussianHMM(n_components=2, covariance_type=\"diag\", n_iter=100)\n",
    "model.fit(d)\n",
    "\n",
    "#Output\n",
    "plot_list(d)\n",
    "print_states(model)\n",
    "print_summary([d_1,d_2])"
   ]
  },
  {
   "cell_type": "markdown",
   "metadata": {},
   "source": [
    "## Try the same after shuffling the values\n",
    "Now the variance will be much higher because the order is random. But the result are still satisfying for some cases."
   ]
  },
  {
   "cell_type": "code",
   "execution_count": 10,
   "metadata": {},
   "outputs": [
    {
     "data": {
      "image/png": "[encoded data removed]",
      "text/plain": [
       "<matplotlib.figure.Figure at 0x272593e4ef0>"
      ]
     },
     "metadata": {},
     "output_type": "display_data"
    },
    {
     "name": "stdout",
     "output_type": "stream",
     "text": [
      "\n",
      "Hidden state 1\n",
      "Mean = 15.61\n",
      "Variance = 5.7\n",
      "\n",
      "Hidden state 2\n",
      "Mean = 5.61\n",
      "Variance = 10.81\n",
      "\n",
      "List 1\n",
      "Mean = 5.36\n",
      "Variance = 9.37\n",
      "\n",
      "List 2\n",
      "Mean = 15.5\n",
      "Variance = 5.82\n"
     ]
    }
   ],
   "source": [
    "#Concatencate and transpose the full list \n",
    "d_rand = np.random.shuffle(d)\n",
    "\n",
    "#Fit model\n",
    "model = hmm.GaussianHMM(n_components=2, covariance_type=\"diag\", n_iter=1000)\n",
    "model.fit(d)\n",
    "\n",
    "#Output\n",
    "plot_list(d)\n",
    "print_states(model)\n",
    "print_summary([d_1,d_2])"
   ]
  },
  {
   "cell_type": "code",
   "execution_count": null,
   "metadata": {},
   "outputs": [],
   "source": []
  }
 ],
 "metadata": {
  "kernelspec": {
   "display_name": "Python 3",
   "language": "python",
   "name": "python3"
  },
  "language_info": {
   "codemirror_mode": {
    "name": "ipython",
    "version": 3
   },
   "file_extension": ".py",
   "mimetype": "text/x-python",
   "name": "python",
   "nbconvert_exporter": "python",
   "pygments_lexer": "ipython3",
   "version": "3.6.1"
  }
 },
 "nbformat": 4,
 "nbformat_minor": 2
}
