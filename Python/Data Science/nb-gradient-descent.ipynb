{
 "cells": [
  {
   "cell_type": "markdown",
   "metadata": {},
   "source": [
    "# Gradient descent\n",
    "Optimizes the function parameters to find the lowest value.\n",
    "\n",
    "Find minimum for function y=(x+5)<sup>2</sup> by starting from x=3."
   ]
  },
  {
   "cell_type": "code",
   "execution_count": 14,
   "metadata": {},
   "outputs": [],
   "source": [
    "import matplotlib.pyplot as plt"
   ]
  },
  {
   "cell_type": "code",
   "execution_count": 29,
   "metadata": {
    "scrolled": false
   },
   "outputs": [
    {
     "data": {
      "image/png": "[encoded data removed]",
      "text/plain": [
       "<Figure size 432x288 with 1 Axes>"
      ]
     },
     "metadata": {
      "needs_background": "light"
     },
     "output_type": "display_data"
    },
    {
     "name": "stdout",
     "output_type": "stream",
     "text": [
      "\n",
      "Iteration 1 \n",
      "X value is 2.84\n",
      "\n",
      "Iteration 2 \n",
      "X value is 2.6832\n",
      "\n",
      "Iteration 3 \n",
      "X value is 2.529536\n",
      "\n",
      "Iteration 4 \n",
      "X value is 2.37894528\n",
      "\n",
      "Iteration 5 \n",
      "X value is 2.2313663744\n",
      "\n",
      "Iteration 6 \n",
      "X value is 2.0867390469119997\n",
      "\n",
      "Iteration 7 \n",
      "X value is 1.9450042659737599\n",
      "\n",
      "Iteration 8 \n",
      "X value is 1.8061041806542846\n",
      "\n",
      "Iteration 9 \n",
      "X value is 1.669982097041199\n",
      "\n",
      "Iteration 50 \n",
      "X value is -2.0866425593030637\n",
      "\n",
      "Iteration 100 \n",
      "X value is -3.939043552841975\n",
      "\n",
      "Iteration 150 \n",
      "X value is -4.6136318300521\n",
      "\n",
      "Iteration 200 \n",
      "X value is -4.859296427154229\n",
      "\n",
      "Iteration 250 \n",
      "X value is -4.9487600248896415\n",
      "The local minimum occurs at -4.951773345345931\n"
     ]
    }
   ],
   "source": [
    "#The algorithm starts at x=3\n",
    "cur_x = 3\n",
    "\n",
    "# Learning rate\n",
    "rate = 0.01\n",
    "\n",
    "#This tells us when to stop the algorithm\n",
    "precision = 0.001\n",
    "\n",
    "#\n",
    "previous_step_size = 1\n",
    "\n",
    "#Maximum number of iterations\n",
    "i_max = 10000 \n",
    "\n",
    "#The itarator variable\n",
    "i = 0 \n",
    "\n",
    "#Gradient function \n",
    "f = lambda x: 2*(x+5) \n",
    "\n",
    "#Plot the original function\n",
    "\n",
    "#Plot the gradient\n",
    "x = [-10, -7, -6, -5, -4, -3, -2, -1, 0, 1, 2, 3, 4, 5]\n",
    "y = list(map(f, x))\n",
    "plt.plot(x, y, color='green')\n",
    "plt.plot([0, 0], [min(y), max(y)], color='gray')\n",
    "plt.plot([min(x), max(x)], [0, 0], color='gray')\n",
    "plt.show()\n",
    "\n",
    "while previous_step_size > precision and i < i_max:\n",
    "    \n",
    "    #Store current x value in prev_x\n",
    "    prev_x = cur_x \n",
    "    \n",
    "    #Gradient descent\n",
    "    cur_x = cur_x - rate * f(prev_x)\n",
    "    \n",
    "    #Change in x\n",
    "    previous_step_size = abs(cur_x - prev_x)\n",
    "    \n",
    "    #Iteration count\n",
    "    i = i + 1\n",
    "    \n",
    "    #Print every nth iteration\n",
    "    if i<10 or i%50==0:\n",
    "        print(\"\\nIteration\",i,\"\\nX value is\",cur_x)\n",
    "    \n",
    "print(\"The local minimum occurs at\", cur_x)"
   ]
  }
 ],
 "metadata": {
  "kernelspec": {
   "display_name": "Python 3",
   "language": "python",
   "name": "python3"
  },
  "language_info": {
   "codemirror_mode": {
    "name": "ipython",
    "version": 3
   },
   "file_extension": ".py",
   "mimetype": "text/x-python",
   "name": "python",
   "nbconvert_exporter": "python",
   "pygments_lexer": "ipython3",
   "version": "3.6.6"
  }
 },
 "nbformat": 4,
 "nbformat_minor": 2
}
