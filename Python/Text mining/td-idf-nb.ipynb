{
 "cells": [
  {
   "cell_type": "markdown",
   "metadata": {},
   "source": [
    "TD-IDF is a measure of word's importance in a pool of documents (corpus). This KPI might be useful as a feature in clustering or classification. \n",
    "\n",
    "Roughly the formula goes like this\n",
    "TD-IDF = [Word's frequency in the document] x [Documents in the corpus] / [Documents in the corpus having this word]\n",
    "\n",
    "It is also possible to perform the calculation for multiple consecutive words (n-grams).\n",
    "\n",
    "[TD-IDF explained in wikipedia](https://en.wikipedia.org/wiki/Tf%E2%80%93idf)"
   ]
  },
  {
   "cell_type": "markdown",
   "metadata": {},
   "source": [
    "## Generate documents to corpus"
   ]
  },
  {
   "cell_type": "code",
   "execution_count": 2,
   "metadata": {},
   "outputs": [],
   "source": [
    "doc_1 = \"How many bananas a monkey can eat? Probably some but not too many.\"\n",
    "doc_2 = \"This is some text that I write. Maybe it would be nice to add a few more words.\" \n",
    "doc_3 = \"This is the document number three. Three sound like a tree.\"\n",
    "doc_4 = \"Well, these are not actual documents but rather chunks of text.\"\n",
    "doc_5 = \"Ok, it is time to stop writing this meaningless yargon.\"\n",
    "corpus = [doc_1, doc_2, doc_3, doc_4, doc_5]"
   ]
  },
  {
   "cell_type": "markdown",
   "metadata": {},
   "source": [
    "## Next step..."
   ]
  },
  {
   "cell_type": "code",
   "execution_count": 5,
   "metadata": {},
   "outputs": [],
   "source": [
    "#In progress."
   ]
  },
  {
   "cell_type": "code",
   "execution_count": null,
   "metadata": {},
   "outputs": [],
   "source": []
  }
 ],
 "metadata": {
  "kernelspec": {
   "display_name": "Python 3",
   "language": "python",
   "name": "python3"
  },
  "language_info": {
   "codemirror_mode": {
    "name": "ipython",
    "version": 3
   },
   "file_extension": ".py",
   "mimetype": "text/x-python",
   "name": "python",
   "nbconvert_exporter": "python",
   "pygments_lexer": "ipython3",
   "version": "3.6.1"
  }
 },
 "nbformat": 4,
 "nbformat_minor": 2
}
