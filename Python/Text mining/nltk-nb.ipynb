{
 "cells": [
  {
   "cell_type": "code",
   "execution_count": 72,
   "metadata": {},
   "outputs": [
    {
     "name": "stdout",
     "output_type": "stream",
     "text": [
      "[nltk_data] Downloading package punkt to\n",
      "[nltk_data]     C:\\Users\\mikaelah\\AppData\\Roaming\\nltk_data...\n",
      "[nltk_data]   Package punkt is already up-to-date!\n",
      "[nltk_data] Downloading package stopwords to\n",
      "[nltk_data]     C:\\Users\\mikaelah\\AppData\\Roaming\\nltk_data...\n",
      "[nltk_data]   Package stopwords is already up-to-date!\n"
     ]
    }
   ],
   "source": [
    "from nltk.corpus import stopwords\n",
    "from nltk.tokenize import word_tokenize, sent_tokenize\n",
    "\n",
    "#Downloaded additional items\n",
    "import nltk\n",
    "nltk.download('punkt')\n",
    "nltk.download('stopwords')\n",
    "\n",
    "#Other libraries\n",
    "from IPython.display import display\n",
    "import numpy as np\n",
    "import pandas as pd\n",
    "import re"
   ]
  },
  {
   "cell_type": "markdown",
   "metadata": {},
   "source": [
    "## Sample text"
   ]
  },
  {
   "cell_type": "code",
   "execution_count": 87,
   "metadata": {},
   "outputs": [],
   "source": [
    "txt = \"\"\"\n",
    "Python, from the Greek word (πύθων/πύθωνας), is a genus of nonvenomous Pythonidae[2] found in Africa and Asia. Until recently, seven extant species were recognised;[2] however, three subspecies have been promoted and a new species recognised. A member of this genus, P. reticulatus, is among the longest snake species and extant reptiles in the world.\n",
    "\n",
    "In Africa, members of the genus are found in the tropics south of the Sahara, but not in the extreme south-western tip of southern Africa (Western Cape) or in Madagascar. In Asia, they are found from Bangladesh, Nepal, India, Pakistan, and Sri Lanka, including the Nicobar Islands, through Myanmar, east to Indochina, southern China, Hong Kong and Hainan, as well as in the Malayan region of Indonesia and the Philippines.[1]\n",
    "\n",
    "Some suggest that P. molurus and P. sebae have the potential to be problematic invasive species in South Florida.[3] The United States Department of Agriculture reports that only Python bivittatus is an invasive species in the United States.[4] In early 2016, after a culling operation yielded 106 of the animals, Everglades park officials suggested that \"thousands\" may live within the park, and that the species has been breeding there for some years. More recent data suggest that these pythons would not withstand winter climates north of Florida, contradicting previous research suggesting a more significant geographic potential range.\n",
    "\n",
    "Python skin is used to make clothing, such as vests, belts, boots and shoes, or fashion accessories such as handbags. It may also be stretched and formed as the sound board of some string musical instruments, such as the erhu spike-fiddle, sanxian and the sanshin lutes.[12][13]\n",
    "\n",
    "As pets\n",
    "Many Python species, such as P. regius, P. brongersmai, P. bivittatus and P. reticulatus, are popular to keep as pets due to their ease of care, docile temperament, and vibrant colors, with some rare mutations having been sold for several thousands of dollars. Despite controversy that has arisen from media reports, with proper safety procedures pet pythons are relatively safe to own,[14] and deaths associated with them are isolated compared to other domestic animals, such as dogs and horses.[13][15]\n",
    "\"\"\""
   ]
  },
  {
   "cell_type": "markdown",
   "metadata": {},
   "source": [
    "## Lower case"
   ]
  },
  {
   "cell_type": "code",
   "execution_count": 88,
   "metadata": {},
   "outputs": [],
   "source": [
    "txt = txt.lower()"
   ]
  },
  {
   "cell_type": "markdown",
   "metadata": {},
   "source": [
    "## Tokenize sentences"
   ]
  },
  {
   "cell_type": "code",
   "execution_count": 89,
   "metadata": {},
   "outputs": [
    {
     "name": "stdout",
     "output_type": "stream",
     "text": [
      "14 sentences found.\n"
     ]
    }
   ],
   "source": [
    "sentences = np.asarray(sent_tokenize(txt))\n",
    "n_sentences = len(sentences)\n",
    "print(\"{} sentences found.\".format(n_sentences))"
   ]
  },
  {
   "cell_type": "markdown",
   "metadata": {},
   "source": [
    "## Tokenize words"
   ]
  },
  {
   "cell_type": "code",
   "execution_count": 90,
   "metadata": {},
   "outputs": [
    {
     "name": "stdout",
     "output_type": "stream",
     "text": [
      "437 words found.\n"
     ]
    }
   ],
   "source": [
    "words = np.asarray(word_tokenize(txt))\n",
    "n_words = len(words)\n",
    "print(\"{} words found.\".format(n_words))"
   ]
  },
  {
   "cell_type": "markdown",
   "metadata": {},
   "source": [
    "## Remove unneseccary characters and words"
   ]
  },
  {
   "cell_type": "code",
   "execution_count": 91,
   "metadata": {},
   "outputs": [
    {
     "name": "stdout",
     "output_type": "stream",
     "text": [
      "['python' 'greek' 'word' 'πύθων/πύθωνας' 'genus' 'nonvenomous' 'pythonidae'\n",
      " '2' 'found' 'africa' 'asia' 'recently' 'seven' 'extant' 'species'\n",
      " 'recognised' '2' 'however' 'three' 'subspecies' 'promoted' 'new' 'species'\n",
      " 'recognised' 'member' 'genus' 'p.' 'reticulatus' 'among' 'longest' 'snake'\n",
      " 'species' 'extant' 'reptiles' 'world' 'africa' 'members' 'genus' 'found'\n",
      " 'tropics' 'south' 'sahara' 'extreme' 'south-western' 'tip' 'southern'\n",
      " 'africa' 'western' 'cape' 'madagascar' 'asia' 'found' 'bangladesh' 'nepal'\n",
      " 'india' 'pakistan' 'sri' 'lanka' 'including' 'nicobar' 'islands' 'myanmar'\n",
      " 'east' 'indochina' 'southern' 'china' 'hong' 'kong' 'hainan' 'well'\n",
      " 'malayan' 'region' 'indonesia' 'philippines' '1' 'suggest' 'p.' 'molurus'\n",
      " 'p.' 'sebae' 'potential' 'problematic' 'invasive' 'species' 'south'\n",
      " 'florida' '3' 'united' 'states' 'department' 'agriculture' 'reports'\n",
      " 'python' 'bivittatus' 'invasive' 'species' 'united' 'states' '4' 'early'\n",
      " '2016' 'culling' 'operation' 'yielded' '106' 'animals' 'everglades' 'park'\n",
      " 'officials' 'suggested' '``' 'thousands' \"''\" 'may' 'live' 'within' 'park'\n",
      " 'species' 'breeding' 'years' 'recent' 'data' 'suggest' 'pythons' 'would'\n",
      " 'withstand' 'winter' 'climates' 'north' 'florida' 'contradicting'\n",
      " 'previous' 'research' 'suggesting' 'significant' 'geographic' 'potential'\n",
      " 'range' 'python' 'skin' 'used' 'make' 'clothing' 'vests' 'belts' 'boots'\n",
      " 'shoes' 'fashion' 'accessories' 'handbags' 'may' 'also' 'stretched'\n",
      " 'formed' 'sound' 'board' 'string' 'musical' 'instruments' 'erhu'\n",
      " 'spike-fiddle' 'sanxian' 'sanshin' 'lutes' '12' '13' 'pets' 'many'\n",
      " 'python' 'species' 'p.' 'regius' 'p.' 'brongersmai' 'p.' 'bivittatus' 'p.'\n",
      " 'reticulatus' 'popular' 'keep' 'pets' 'due' 'ease' 'care' 'docile'\n",
      " 'temperament' 'vibrant' 'colors' 'rare' 'mutations' 'sold' 'several'\n",
      " 'thousands' 'dollars' 'despite' 'controversy' 'arisen' 'media' 'reports'\n",
      " 'proper' 'safety' 'procedures' 'pet' 'pythons' 'relatively' 'safe' '14'\n",
      " 'deaths' 'associated' 'isolated' 'compared' 'domestic' 'animals' 'dogs'\n",
      " 'horses' '13' '15']\n"
     ]
    }
   ],
   "source": [
    "#Remove stop words\n",
    "is_not_stopword = np.isin(words, stopwords.words(\"english\"), invert=True)\n",
    "words = words[is_not_stopword]\n",
    "\n",
    "#Remove middle characters\n",
    "chars = [\".\", \",\", \"[\", \"]\", \"(\", \")\", \";\"]\n",
    "is_not_char = np.isin(words, chars, invert=True)\n",
    "words = words[is_not_char]\n",
    "\n",
    "print(words)"
   ]
  },
  {
   "cell_type": "markdown",
   "metadata": {},
   "source": [
    "## Count words"
   ]
  },
  {
   "cell_type": "code",
   "execution_count": 124,
   "metadata": {},
   "outputs": [
    {
     "data": {
      "text/html": [
       "<div>\n",
       "<style scoped>\n",
       "    .dataframe tbody tr th:only-of-type {\n",
       "        vertical-align: middle;\n",
       "    }\n",
       "\n",
       "    .dataframe tbody tr th {\n",
       "        vertical-align: top;\n",
       "    }\n",
       "\n",
       "    .dataframe thead th {\n",
       "        text-align: right;\n",
       "    }\n",
       "</style>\n",
       "<table border=\"1\" class=\"dataframe\">\n",
       "  <thead>\n",
       "    <tr style=\"text-align: right;\">\n",
       "      <th></th>\n",
       "      <th>word</th>\n",
       "      <th>count</th>\n",
       "    </tr>\n",
       "  </thead>\n",
       "  <tbody>\n",
       "    <tr>\n",
       "      <th>0</th>\n",
       "      <td>p.</td>\n",
       "      <td>7</td>\n",
       "    </tr>\n",
       "    <tr>\n",
       "      <th>1</th>\n",
       "      <td>species</td>\n",
       "      <td>7</td>\n",
       "    </tr>\n",
       "    <tr>\n",
       "      <th>2</th>\n",
       "      <td>python</td>\n",
       "      <td>4</td>\n",
       "    </tr>\n",
       "    <tr>\n",
       "      <th>3</th>\n",
       "      <td>genus</td>\n",
       "      <td>3</td>\n",
       "    </tr>\n",
       "    <tr>\n",
       "      <th>4</th>\n",
       "      <td>found</td>\n",
       "      <td>3</td>\n",
       "    </tr>\n",
       "  </tbody>\n",
       "</table>\n",
       "</div>"
      ],
      "text/plain": [
       "      word  count\n",
       "0       p.      7\n",
       "1  species      7\n",
       "2   python      4\n",
       "3    genus      3\n",
       "4    found      3"
      ]
     },
     "execution_count": 124,
     "metadata": {},
     "output_type": "execute_result"
    }
   ],
   "source": [
    "#Words to data frame\n",
    "df_words = pd.DataFrame(words, columns=[\"word\"])\n",
    "\n",
    "#Counts to new data frame\n",
    "df_count = df_words[\"word\"].value_counts().reset_index()\n",
    "df_count.columns = [\"word\", \"count\"]\n",
    "\n",
    "#Show the most common\n",
    "df_count.head()"
   ]
  }
 ],
 "metadata": {
  "kernelspec": {
   "display_name": "Python 3",
   "language": "python",
   "name": "python3"
  },
  "language_info": {
   "codemirror_mode": {
    "name": "ipython",
    "version": 3
   },
   "file_extension": ".py",
   "mimetype": "text/x-python",
   "name": "python",
   "nbconvert_exporter": "python",
   "pygments_lexer": "ipython3",
   "version": "3.6.1"
  }
 },
 "nbformat": 4,
 "nbformat_minor": 2
}
